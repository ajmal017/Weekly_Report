{
 "cells": [
  {
   "cell_type": "code",
   "execution_count": 33,
   "metadata": {},
   "outputs": [
    {
     "name": "stdout",
     "output_type": "stream",
     "text": [
      "The autoreload extension is already loaded. To reload it, use:\n",
      "  %reload_ext autoreload\n"
     ]
    }
   ],
   "source": [
    "import numpy as np\n",
    "import pandas as pd\n",
    "import matplotlib.pyplot as plt\n",
    "import edhec_risk_kit as erk\n",
    "import yfinance as yf\n",
    "import statsmodels.api as sm\n",
    "import seaborn as sns\n",
    "from datetime import date\n",
    "from pandas_datareader import data\n",
    "import work as work\n",
    "import etf as etf\n",
    "import investpy\n",
    "\n",
    "import plotly.express as px\n",
    "import plotly.graph_objects as go\n",
    "import plotly\n",
    "\n",
    "import ipywidgets as widgets\n",
    "from ipywidgets import interact, interact_manual\n",
    "\n",
    "\n",
    "%matplotlib inline\n",
    "%load_ext autoreload\n",
    "%autoreload 2"
   ]
  },
  {
   "cell_type": "code",
   "execution_count": 3,
   "metadata": {},
   "outputs": [
    {
     "name": "stdout",
     "output_type": "stream",
     "text": [
      "[*********************100%***********************]  39 of 39 completed\n"
     ]
    }
   ],
   "source": [
    "data = work.updated_world_indices(category = 'Major', timeframe='Weekly')\n",
    "hmap = data[0]\n",
    "rawdata = data[1]"
   ]
  },
  {
   "cell_type": "markdown",
   "metadata": {},
   "source": [
    "# Weekly Global Market Report\n",
    "\n",
    "**Date:** 18th July, 2020"
   ]
  },
  {
   "cell_type": "markdown",
   "metadata": {},
   "source": [
    "## World Equities\n",
    "\n",
    "### Local Currency & USD Performance (Weekly & YTD)\n",
    "*Data is sorted by Weekly USD Performance (%)"
   ]
  },
  {
   "cell_type": "code",
   "execution_count": 39,
   "metadata": {},
   "outputs": [
    {
     "data": {
      "application/vnd.jupyter.widget-view+json": {
       "model_id": "b3350cb5d6ec4e42b855a8b612f46239",
       "version_major": 2,
       "version_minor": 0
      },
      "text/plain": [
       "interactive(children=(Dropdown(description='Sort By: ', index=2, options=(('Weekly LCL Returns', 'Chg (%)'), (…"
      ]
     },
     "metadata": {},
     "output_type": "display_data"
    }
   ],
   "source": [
    "def hmap(sortby):\n",
    "    hmap = rawdata.sort_values(by=sortby, ascending=False)\n",
    "    hmap = hmap.style.format({'Price (EOD)': \"{:.2f}\",'Chg': \"{:.2f}\", 'Chg (%)': \"{:.2%}\", 'Chg YTD (%)': \"{:.2%}\", '$ Chg (%)': \"{:.2%}\", '$ Chg YTD (%)': \"{:.2%}\"})\\\n",
    "                         .background_gradient(cmap='RdYlGn', subset=list(hmap.drop(['Price (EOD)', 'Chg', 'Country'], axis=1).columns))\n",
    "    return hmap\n",
    "    \n",
    "style = {'description_width': 'initial'}\n",
    "interact(hmap,\n",
    "             sortby = widgets.Dropdown(options=(('Weekly LCL Returns', 'Chg (%)'), ('YTD LCL Returns', 'Chg YTD (%)'),\n",
    "                                                ('Weekly USD Returns', '$ Chg (%)'), ('YTD USD Returns', '$ Chg YTD (%)')),\n",
    "                                                value = '$ Chg (%)', style=style, description='Sort By: '));"
   ]
  },
  {
   "cell_type": "code",
   "execution_count": 47,
   "metadata": {},
   "outputs": [
    {
     "data": {
      "application/vnd.jupyter.widget-view+json": {
       "model_id": "572667a4ed104aa092a32fec615852b0",
       "version_major": 2,
       "version_minor": 0
      },
      "text/plain": [
       "interactive(children=(Dropdown(description='Timeframe: ', options=('Weekly USD', 'YTD USD'), style=Description…"
      ]
     },
     "metadata": {},
     "output_type": "display_data"
    }
   ],
   "source": [
    "def perf(timeframe):\n",
    "    weekly_usd = rawdata\n",
    "    if timeframe=='Weekly USD':\n",
    "        weekly_usd = ((pd.DataFrame(weekly_usd['$ Chg (%)']*100)).dropna().sort_values(by='$ Chg (%)', ascending=False))\n",
    "        fig = px.bar(weekly_usd, color=weekly_usd.values, text=rawdata['Country'])\n",
    "        \n",
    "    elif timeframe=='YTD USD':\n",
    "        weekly_usd1 = rawdata.sort_values(by='$ Chg YTD (%)', ascending=False)\n",
    "        weekly_usd = ((pd.DataFrame(weekly_usd1['$ Chg YTD (%)']*100)).dropna().sort_values(by='$ Chg YTD (%)', ascending=False))\n",
    "        fig = px.bar(weekly_usd, color=weekly_usd.values, text=weekly_usd1['Country'])\n",
    "    \n",
    "\n",
    "    fig.update_layout(title = 'World Indices ' + str(timeframe) + ' Performance (%) in US Dollar Terms (EOD)',\n",
    "                       xaxis_title='Indices',\n",
    "                       yaxis_title='Return (%)', font=dict(family=\"Segoe UI, monospace\", size=13, color=\"#7f7f7f\"),\n",
    "                       legend_title_text='Return(%)', plot_bgcolor = 'White', yaxis_tickformat = '{:.2f}%')\n",
    "    fig.update_traces(hovertemplate='Index: %{x} <br>Country: %{text} <br>Return: %{y:.2f}%') \n",
    "    fig.update_yaxes(automargin=True)\n",
    "    fig.show()\n",
    "    \n",
    "interact(perf,\n",
    "             timeframe = widgets.Dropdown(options=('Weekly USD','YTD USD'),\n",
    "                                                value = 'Weekly USD', style=style, description='Timeframe: '));"
   ]
  },
  {
   "cell_type": "markdown",
   "metadata": {},
   "source": [
    "**HIGHLIGHTS:**\n",
    "\n",
    "- US stocks broadly gained this week despite fragile sentiment as the US earnings season kicked off. Big US banks reported mixed second quarter earnings as well as large reserve in anticipation of loan losses. Week-to-date, the Dow Jones gained 2.5%, the S&P500 rose 1.0% and NASDAQ fell 1.4%. \n",
    "\n",
    "\n",
    "- Moderna’s claim of promising vaccines trial as well as Apple’s key tax victory in European court helped fuel the gains. While Covid-19 cases are surging in the US, a major risk to the ongoing economic recovery, the general view is that the US would not re-enter strict lockdown. \n",
    "\n",
    "\n",
    "- Globally, central banks’ macro assessment turned more positive but continued to highlight uncertain outlook surrounding the fluid situation of the pandemic. The BOJ, ECB and BOC all left their key rates unchanged. US data were encouraging this week, supporting the narrative of a gradual recovery.Highlights this week include the 7.5% MOM gain in US retail sales and 5.4% increase in industrial production, alongside stabilising jobless claims data. \n",
    "\n",
    "\n",
    "- Sentiments were also upbeat among small business owners as well as homebuilders. Elsewhere, the Eurozone’s May international trade remained more than 20% lower compared to the same period last year. Eurozone and UK both saw rebound in industrial production. UK unemployment rate was steady at 3.9%, while the economy lost 125k jobs, offering mixed assessment of the labour market. CPI posted a surprise 0.1% MOM increase.\n",
    "\n",
    "\n",
    "- In Asia, China 2Q GDP growth came in better than expected at 3.2% YOY while its key economic indicators (retail sales, IPI and fixed investment) also point to gradual recovery. Japan industrial production on the other hand fell for the eighth consecutive month.\n",
    "\n",
    "\n",
    "- Singapore plunged into technical recession with a 41.2% QOQ contraction. YOY, the economy contracted 12.6%. Downunder, Australia reported more than 200k job gains, only in the part-time segments. New Zealand CPI fell for the first time in more than 4 years and its Manufacturing PMI surged back above 50.\n",
    "\n",
    "- Most key data are out on Monday morning when a new trading week begins. China’s PBOC is expected to keep its 1-year loan prime rate steady at 3.85% as the economy stabilises. Japan’s trade data are New Zealand’s services PMI are both scheduled for a pre-8am releases.\n",
    "\n",
    "\n",
    "- Moving on to Tuesday, the main focus is on RBA’s meeting minutes. Other than that, Japan’s CPI inflation and New Zealand’s card spending will also be out in the morning. Hong Kong CPI will come later of the day. US data is limited to the Chicago Fed National Activity Index.\n",
    "\n",
    "\n",
    "- Wednesday turns busy given the release of Malaysia CPI on the home front. Expectations are for a 4th straight month of negative print at 1.3% YOY for June. Japan’s preliminary Markit services and manufacturing PMIs are expected to offer us first hand insights into its current economic condition. \n",
    "\n",
    "\n",
    "- Australia’s preliminary retail sales and Westpac leading index could be key drivers for the Aussie dollar. Housing data namely existing home sales and the FHFA House Price Index and mortgage applications are in the US calendar. Singapore CPI, Australia NAB Business Confidence and Eurozone flash Consumer Confidence Index are slated for a Thursday release. These are then followed by US jobless claims numbers, leading index and Kansas City Fed Manufacturing.\n",
    "\n",
    "\n",
    "- Friday’s calendar is packed with flash PMI readings for US, Eurozone and UK. Other than that, US new home sales, UK consumer confidence and retail sales, New Zealand trade data and Singapore IPI are Friday’s highlights. "
   ]
  },
  {
   "cell_type": "code",
   "execution_count": null,
   "metadata": {},
   "outputs": [],
   "source": []
  }
 ],
 "metadata": {
  "kernelspec": {
   "display_name": "Python 3",
   "language": "python",
   "name": "python3"
  },
  "language_info": {
   "codemirror_mode": {
    "name": "ipython",
    "version": 3
   },
   "file_extension": ".py",
   "mimetype": "text/x-python",
   "name": "python",
   "nbconvert_exporter": "python",
   "pygments_lexer": "ipython3",
   "version": "3.7.3"
  }
 },
 "nbformat": 4,
 "nbformat_minor": 2
}
