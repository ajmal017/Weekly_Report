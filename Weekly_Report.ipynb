{
 "cells": [
  {
   "cell_type": "code",
   "execution_count": 2,
   "metadata": {},
   "outputs": [
    {
     "name": "stdout",
     "output_type": "stream",
     "text": [
      "The autoreload extension is already loaded. To reload it, use:\n",
      "  %reload_ext autoreload\n"
     ]
    }
   ],
   "source": [
    "import numpy as np\n",
    "import pandas as pd\n",
    "import matplotlib.pyplot as plt\n",
    "import edhec_risk_kit as erk\n",
    "import yfinance as yf\n",
    "import statsmodels.api as sm\n",
    "import seaborn as sns\n",
    "from datetime import date\n",
    "from pandas_datareader import data\n",
    "import work as work\n",
    "import etf as etf\n",
    "import investpy\n",
    "\n",
    "%matplotlib inline\n",
    "%load_ext autoreload\n",
    "%autoreload 2"
   ]
  },
  {
   "cell_type": "code",
   "execution_count": 3,
   "metadata": {},
   "outputs": [
    {
     "name": "stdout",
     "output_type": "stream",
     "text": [
      "[*********************100%***********************]  39 of 39 completed\n"
     ]
    }
   ],
   "source": [
    "data = work.updated_world_indices(category = 'Major', timeframe='Weekly')\n",
    "hmap = data[0]\n",
    "rawdata = data[1]"
   ]
  },
  {
   "cell_type": "code",
   "execution_count": 5,
   "metadata": {},
   "outputs": [
    {
     "data": {
      "text/html": [
       "<style  type=\"text/css\" >\n",
       "    #T_74629fa4_c8d3_11ea_9654_507b9d529891row0_col3 {\n",
       "            background-color:  #0b7d42;\n",
       "            color:  #f1f1f1;\n",
       "        }    #T_74629fa4_c8d3_11ea_9654_507b9d529891row0_col4 {\n",
       "            background-color:  #fdb96a;\n",
       "            color:  #000000;\n",
       "        }    #T_74629fa4_c8d3_11ea_9654_507b9d529891row0_col5 {\n",
       "            background-color:  #006837;\n",
       "            color:  #f1f1f1;\n",
       "        }    #T_74629fa4_c8d3_11ea_9654_507b9d529891row0_col6 {\n",
       "            background-color:  #fee999;\n",
       "            color:  #000000;\n",
       "        }    #T_74629fa4_c8d3_11ea_9654_507b9d529891row1_col3 {\n",
       "            background-color:  #006837;\n",
       "            color:  #f1f1f1;\n",
       "        }    #T_74629fa4_c8d3_11ea_9654_507b9d529891row1_col4 {\n",
       "            background-color:  #feca79;\n",
       "            color:  #000000;\n",
       "        }    #T_74629fa4_c8d3_11ea_9654_507b9d529891row1_col5 {\n",
       "            background-color:  #036e3a;\n",
       "            color:  #f1f1f1;\n",
       "        }    #T_74629fa4_c8d3_11ea_9654_507b9d529891row1_col6 {\n",
       "            background-color:  #fee999;\n",
       "            color:  #000000;\n",
       "        }    #T_74629fa4_c8d3_11ea_9654_507b9d529891row2_col3 {\n",
       "            background-color:  #2aa054;\n",
       "            color:  #000000;\n",
       "        }    #T_74629fa4_c8d3_11ea_9654_507b9d529891row2_col4 {\n",
       "            background-color:  #fca55d;\n",
       "            color:  #000000;\n",
       "        }    #T_74629fa4_c8d3_11ea_9654_507b9d529891row2_col5 {\n",
       "            background-color:  #148e4b;\n",
       "            color:  #000000;\n",
       "        }    #T_74629fa4_c8d3_11ea_9654_507b9d529891row2_col6 {\n",
       "            background-color:  #fee08b;\n",
       "            color:  #000000;\n",
       "        }    #T_74629fa4_c8d3_11ea_9654_507b9d529891row3_col3 {\n",
       "            background-color:  #2da155;\n",
       "            color:  #000000;\n",
       "        }    #T_74629fa4_c8d3_11ea_9654_507b9d529891row3_col4 {\n",
       "            background-color:  #ea5739;\n",
       "            color:  #000000;\n",
       "        }    #T_74629fa4_c8d3_11ea_9654_507b9d529891row3_col5 {\n",
       "            background-color:  #16914d;\n",
       "            color:  #000000;\n",
       "        }    #T_74629fa4_c8d3_11ea_9654_507b9d529891row3_col6 {\n",
       "            background-color:  #fca55d;\n",
       "            color:  #000000;\n",
       "        }    #T_74629fa4_c8d3_11ea_9654_507b9d529891row4_col3 {\n",
       "            background-color:  #33a456;\n",
       "            color:  #000000;\n",
       "        }    #T_74629fa4_c8d3_11ea_9654_507b9d529891row4_col4 {\n",
       "            background-color:  #fed683;\n",
       "            color:  #000000;\n",
       "        }    #T_74629fa4_c8d3_11ea_9654_507b9d529891row4_col5 {\n",
       "            background-color:  #17934e;\n",
       "            color:  #000000;\n",
       "        }    #T_74629fa4_c8d3_11ea_9654_507b9d529891row4_col6 {\n",
       "            background-color:  #fffbb8;\n",
       "            color:  #000000;\n",
       "        }    #T_74629fa4_c8d3_11ea_9654_507b9d529891row5_col3 {\n",
       "            background-color:  #39a758;\n",
       "            color:  #000000;\n",
       "        }    #T_74629fa4_c8d3_11ea_9654_507b9d529891row5_col4 {\n",
       "            background-color:  #f1f9ac;\n",
       "            color:  #000000;\n",
       "        }    #T_74629fa4_c8d3_11ea_9654_507b9d529891row5_col5 {\n",
       "            background-color:  #1b9950;\n",
       "            color:  #000000;\n",
       "        }    #T_74629fa4_c8d3_11ea_9654_507b9d529891row5_col6 {\n",
       "            background-color:  #cdea83;\n",
       "            color:  #000000;\n",
       "        }    #T_74629fa4_c8d3_11ea_9654_507b9d529891row6_col3 {\n",
       "            background-color:  #2da155;\n",
       "            color:  #000000;\n",
       "        }    #T_74629fa4_c8d3_11ea_9654_507b9d529891row6_col4 {\n",
       "            background-color:  #f98e52;\n",
       "            color:  #000000;\n",
       "        }    #T_74629fa4_c8d3_11ea_9654_507b9d529891row6_col5 {\n",
       "            background-color:  #42ac5a;\n",
       "            color:  #000000;\n",
       "        }    #T_74629fa4_c8d3_11ea_9654_507b9d529891row6_col6 {\n",
       "            background-color:  #fca55d;\n",
       "            color:  #000000;\n",
       "        }    #T_74629fa4_c8d3_11ea_9654_507b9d529891row7_col3 {\n",
       "            background-color:  #45ad5b;\n",
       "            color:  #000000;\n",
       "        }    #T_74629fa4_c8d3_11ea_9654_507b9d529891row7_col4 {\n",
       "            background-color:  #fff1a8;\n",
       "            color:  #000000;\n",
       "        }    #T_74629fa4_c8d3_11ea_9654_507b9d529891row7_col5 {\n",
       "            background-color:  #4bb05c;\n",
       "            color:  #000000;\n",
       "        }    #T_74629fa4_c8d3_11ea_9654_507b9d529891row7_col6 {\n",
       "            background-color:  #fff2aa;\n",
       "            color:  #000000;\n",
       "        }    #T_74629fa4_c8d3_11ea_9654_507b9d529891row8_col3 {\n",
       "            background-color:  #6ec064;\n",
       "            color:  #000000;\n",
       "        }    #T_74629fa4_c8d3_11ea_9654_507b9d529891row8_col4 {\n",
       "            background-color:  #30a356;\n",
       "            color:  #000000;\n",
       "        }    #T_74629fa4_c8d3_11ea_9654_507b9d529891row8_col5 {\n",
       "            background-color:  #4bb05c;\n",
       "            color:  #000000;\n",
       "        }    #T_74629fa4_c8d3_11ea_9654_507b9d529891row8_col6 {\n",
       "            background-color:  #108647;\n",
       "            color:  #000000;\n",
       "        }    #T_74629fa4_c8d3_11ea_9654_507b9d529891row9_col3 {\n",
       "            background-color:  #57b65f;\n",
       "            color:  #000000;\n",
       "        }    #T_74629fa4_c8d3_11ea_9654_507b9d529891row9_col4 {\n",
       "            background-color:  #a9da6c;\n",
       "            color:  #000000;\n",
       "        }    #T_74629fa4_c8d3_11ea_9654_507b9d529891row9_col5 {\n",
       "            background-color:  #5db961;\n",
       "            color:  #000000;\n",
       "        }    #T_74629fa4_c8d3_11ea_9654_507b9d529891row9_col6 {\n",
       "            background-color:  #feffbe;\n",
       "            color:  #000000;\n",
       "        }    #T_74629fa4_c8d3_11ea_9654_507b9d529891row10_col3 {\n",
       "            background-color:  #48ae5c;\n",
       "            color:  #000000;\n",
       "        }    #T_74629fa4_c8d3_11ea_9654_507b9d529891row10_col4 {\n",
       "            background-color:  #f4fab0;\n",
       "            color:  #000000;\n",
       "        }    #T_74629fa4_c8d3_11ea_9654_507b9d529891row10_col5 {\n",
       "            background-color:  #78c565;\n",
       "            color:  #000000;\n",
       "        }    #T_74629fa4_c8d3_11ea_9654_507b9d529891row10_col6 {\n",
       "            background-color:  #c9e881;\n",
       "            color:  #000000;\n",
       "        }    #T_74629fa4_c8d3_11ea_9654_507b9d529891row11_col3 {\n",
       "            background-color:  #78c565;\n",
       "            color:  #000000;\n",
       "        }    #T_74629fa4_c8d3_11ea_9654_507b9d529891row11_col4 {\n",
       "            background-color:  #ebf7a3;\n",
       "            color:  #000000;\n",
       "        }    #T_74629fa4_c8d3_11ea_9654_507b9d529891row11_col5 {\n",
       "            background-color:  #82c966;\n",
       "            color:  #000000;\n",
       "        }    #T_74629fa4_c8d3_11ea_9654_507b9d529891row11_col6 {\n",
       "            background-color:  #d7ee8a;\n",
       "            color:  #000000;\n",
       "        }    #T_74629fa4_c8d3_11ea_9654_507b9d529891row12_col3 {\n",
       "            background-color:  #a5d86a;\n",
       "            color:  #000000;\n",
       "        }    #T_74629fa4_c8d3_11ea_9654_507b9d529891row12_col4 {\n",
       "            background-color:  #fff6b0;\n",
       "            color:  #000000;\n",
       "        }    #T_74629fa4_c8d3_11ea_9654_507b9d529891row12_col5 {\n",
       "            background-color:  #89cc67;\n",
       "            color:  #000000;\n",
       "        }    #T_74629fa4_c8d3_11ea_9654_507b9d529891row12_col6 {\n",
       "            background-color:  #e6f59d;\n",
       "            color:  #000000;\n",
       "        }    #T_74629fa4_c8d3_11ea_9654_507b9d529891row13_col3 {\n",
       "            background-color:  #dff293;\n",
       "            color:  #000000;\n",
       "        }    #T_74629fa4_c8d3_11ea_9654_507b9d529891row13_col4 {\n",
       "            background-color:  #dff293;\n",
       "            color:  #000000;\n",
       "        }    #T_74629fa4_c8d3_11ea_9654_507b9d529891row13_col5 {\n",
       "            background-color:  #93d168;\n",
       "            color:  #000000;\n",
       "        }    #T_74629fa4_c8d3_11ea_9654_507b9d529891row13_col6 {\n",
       "            background-color:  #fee28f;\n",
       "            color:  #000000;\n",
       "        }    #T_74629fa4_c8d3_11ea_9654_507b9d529891row14_col3 {\n",
       "            background-color:  #a7d96b;\n",
       "            color:  #000000;\n",
       "        }    #T_74629fa4_c8d3_11ea_9654_507b9d529891row14_col4 {\n",
       "            background-color:  #f1f9ac;\n",
       "            color:  #000000;\n",
       "        }    #T_74629fa4_c8d3_11ea_9654_507b9d529891row14_col5 {\n",
       "            background-color:  #a0d669;\n",
       "            color:  #000000;\n",
       "        }    #T_74629fa4_c8d3_11ea_9654_507b9d529891row14_col6 {\n",
       "            background-color:  #d7ee8a;\n",
       "            color:  #000000;\n",
       "        }    #T_74629fa4_c8d3_11ea_9654_507b9d529891row15_col3 {\n",
       "            background-color:  #afdd70;\n",
       "            color:  #000000;\n",
       "        }    #T_74629fa4_c8d3_11ea_9654_507b9d529891row15_col4 {\n",
       "            background-color:  #a50026;\n",
       "            color:  #f1f1f1;\n",
       "        }    #T_74629fa4_c8d3_11ea_9654_507b9d529891row15_col5 {\n",
       "            background-color:  #a2d76a;\n",
       "            color:  #000000;\n",
       "        }    #T_74629fa4_c8d3_11ea_9654_507b9d529891row15_col6 {\n",
       "            background-color:  #a50026;\n",
       "            color:  #f1f1f1;\n",
       "        }    #T_74629fa4_c8d3_11ea_9654_507b9d529891row16_col3 {\n",
       "            background-color:  #addc6f;\n",
       "            color:  #000000;\n",
       "        }    #T_74629fa4_c8d3_11ea_9654_507b9d529891row16_col4 {\n",
       "            background-color:  #fed27f;\n",
       "            color:  #000000;\n",
       "        }    #T_74629fa4_c8d3_11ea_9654_507b9d529891row16_col5 {\n",
       "            background-color:  #a9da6c;\n",
       "            color:  #000000;\n",
       "        }    #T_74629fa4_c8d3_11ea_9654_507b9d529891row16_col6 {\n",
       "            background-color:  #fff2aa;\n",
       "            color:  #000000;\n",
       "        }    #T_74629fa4_c8d3_11ea_9654_507b9d529891row17_col3 {\n",
       "            background-color:  #c7e77f;\n",
       "            color:  #000000;\n",
       "        }    #T_74629fa4_c8d3_11ea_9654_507b9d529891row17_col4 {\n",
       "            background-color:  #f67a49;\n",
       "            color:  #000000;\n",
       "        }    #T_74629fa4_c8d3_11ea_9654_507b9d529891row17_col5 {\n",
       "            background-color:  #b1de71;\n",
       "            color:  #000000;\n",
       "        }    #T_74629fa4_c8d3_11ea_9654_507b9d529891row17_col6 {\n",
       "            background-color:  #f88950;\n",
       "            color:  #000000;\n",
       "        }    #T_74629fa4_c8d3_11ea_9654_507b9d529891row18_col3 {\n",
       "            background-color:  #98d368;\n",
       "            color:  #000000;\n",
       "        }    #T_74629fa4_c8d3_11ea_9654_507b9d529891row18_col4 {\n",
       "            background-color:  #fdb567;\n",
       "            color:  #000000;\n",
       "        }    #T_74629fa4_c8d3_11ea_9654_507b9d529891row18_col5 {\n",
       "            background-color:  #b5df74;\n",
       "            color:  #000000;\n",
       "        }    #T_74629fa4_c8d3_11ea_9654_507b9d529891row18_col6 {\n",
       "            background-color:  #be1827;\n",
       "            color:  #f1f1f1;\n",
       "        }    #T_74629fa4_c8d3_11ea_9654_507b9d529891row19_col3 {\n",
       "            background-color:  #c9e881;\n",
       "            color:  #000000;\n",
       "        }    #T_74629fa4_c8d3_11ea_9654_507b9d529891row19_col4 {\n",
       "            background-color:  #f99153;\n",
       "            color:  #000000;\n",
       "        }    #T_74629fa4_c8d3_11ea_9654_507b9d529891row19_col5 {\n",
       "            background-color:  #b9e176;\n",
       "            color:  #000000;\n",
       "        }    #T_74629fa4_c8d3_11ea_9654_507b9d529891row19_col6 {\n",
       "            background-color:  #fdb365;\n",
       "            color:  #000000;\n",
       "        }    #T_74629fa4_c8d3_11ea_9654_507b9d529891row20_col3 {\n",
       "            background-color:  #eff8aa;\n",
       "            color:  #000000;\n",
       "        }    #T_74629fa4_c8d3_11ea_9654_507b9d529891row20_col4 {\n",
       "            background-color:  #f8864f;\n",
       "            color:  #000000;\n",
       "        }    #T_74629fa4_c8d3_11ea_9654_507b9d529891row20_col5 {\n",
       "            background-color:  #bfe47a;\n",
       "            color:  #000000;\n",
       "        }    #T_74629fa4_c8d3_11ea_9654_507b9d529891row20_col6 {\n",
       "            background-color:  #de402e;\n",
       "            color:  #f1f1f1;\n",
       "        }    #T_74629fa4_c8d3_11ea_9654_507b9d529891row21_col3 {\n",
       "            background-color:  #c7e77f;\n",
       "            color:  #000000;\n",
       "        }    #T_74629fa4_c8d3_11ea_9654_507b9d529891row21_col4 {\n",
       "            background-color:  #ecf7a6;\n",
       "            color:  #000000;\n",
       "        }    #T_74629fa4_c8d3_11ea_9654_507b9d529891row21_col5 {\n",
       "            background-color:  #cfeb85;\n",
       "            color:  #000000;\n",
       "        }    #T_74629fa4_c8d3_11ea_9654_507b9d529891row21_col6 {\n",
       "            background-color:  #e0f295;\n",
       "            color:  #000000;\n",
       "        }    #T_74629fa4_c8d3_11ea_9654_507b9d529891row22_col3 {\n",
       "            background-color:  #cdea83;\n",
       "            color:  #000000;\n",
       "        }    #T_74629fa4_c8d3_11ea_9654_507b9d529891row22_col4 {\n",
       "            background-color:  #fede89;\n",
       "            color:  #000000;\n",
       "        }    #T_74629fa4_c8d3_11ea_9654_507b9d529891row22_col5 {\n",
       "            background-color:  #d5ed88;\n",
       "            color:  #000000;\n",
       "        }    #T_74629fa4_c8d3_11ea_9654_507b9d529891row22_col6 {\n",
       "            background-color:  #fff5ae;\n",
       "            color:  #000000;\n",
       "        }    #T_74629fa4_c8d3_11ea_9654_507b9d529891row23_col3 {\n",
       "            background-color:  #b5df74;\n",
       "            color:  #000000;\n",
       "        }    #T_74629fa4_c8d3_11ea_9654_507b9d529891row23_col4 {\n",
       "            background-color:  #daf08d;\n",
       "            color:  #000000;\n",
       "        }    #T_74629fa4_c8d3_11ea_9654_507b9d529891row23_col5 {\n",
       "            background-color:  #d9ef8b;\n",
       "            color:  #000000;\n",
       "        }    #T_74629fa4_c8d3_11ea_9654_507b9d529891row23_col6 {\n",
       "            background-color:  #daf08d;\n",
       "            color:  #000000;\n",
       "        }    #T_74629fa4_c8d3_11ea_9654_507b9d529891row24_col3 {\n",
       "            background-color:  #c7e77f;\n",
       "            color:  #000000;\n",
       "        }    #T_74629fa4_c8d3_11ea_9654_507b9d529891row24_col4 {\n",
       "            background-color:  #18954f;\n",
       "            color:  #000000;\n",
       "        }    #T_74629fa4_c8d3_11ea_9654_507b9d529891row24_col5 {\n",
       "            background-color:  #e8f59f;\n",
       "            color:  #000000;\n",
       "        }    #T_74629fa4_c8d3_11ea_9654_507b9d529891row24_col6 {\n",
       "            background-color:  #36a657;\n",
       "            color:  #000000;\n",
       "        }    #T_74629fa4_c8d3_11ea_9654_507b9d529891row25_col3 {\n",
       "            background-color:  #e8f59f;\n",
       "            color:  #000000;\n",
       "        }    #T_74629fa4_c8d3_11ea_9654_507b9d529891row25_col4 {\n",
       "            background-color:  #eef8a8;\n",
       "            color:  #000000;\n",
       "        }    #T_74629fa4_c8d3_11ea_9654_507b9d529891row25_col5 {\n",
       "            background-color:  #e8f59f;\n",
       "            color:  #000000;\n",
       "        }    #T_74629fa4_c8d3_11ea_9654_507b9d529891row25_col6 {\n",
       "            background-color:  #f2faae;\n",
       "            color:  #000000;\n",
       "        }    #T_74629fa4_c8d3_11ea_9654_507b9d529891row26_col3 {\n",
       "            background-color:  #e5f49b;\n",
       "            color:  #000000;\n",
       "        }    #T_74629fa4_c8d3_11ea_9654_507b9d529891row26_col4 {\n",
       "            background-color:  #006837;\n",
       "            color:  #f1f1f1;\n",
       "        }    #T_74629fa4_c8d3_11ea_9654_507b9d529891row26_col5 {\n",
       "            background-color:  #ebf7a3;\n",
       "            color:  #000000;\n",
       "        }    #T_74629fa4_c8d3_11ea_9654_507b9d529891row26_col6 {\n",
       "            background-color:  #006837;\n",
       "            color:  #f1f1f1;\n",
       "        }    #T_74629fa4_c8d3_11ea_9654_507b9d529891row27_col3 {\n",
       "            background-color:  #eef8a8;\n",
       "            color:  #000000;\n",
       "        }    #T_74629fa4_c8d3_11ea_9654_507b9d529891row27_col4 {\n",
       "            background-color:  #fed683;\n",
       "            color:  #000000;\n",
       "        }    #T_74629fa4_c8d3_11ea_9654_507b9d529891row27_col5 {\n",
       "            background-color:  #ebf7a3;\n",
       "            color:  #000000;\n",
       "        }    #T_74629fa4_c8d3_11ea_9654_507b9d529891row27_col6 {\n",
       "            background-color:  #fa9857;\n",
       "            color:  #000000;\n",
       "        }    #T_74629fa4_c8d3_11ea_9654_507b9d529891row28_col3 {\n",
       "            background-color:  #afdd70;\n",
       "            color:  #000000;\n",
       "        }    #T_74629fa4_c8d3_11ea_9654_507b9d529891row28_col4 {\n",
       "            background-color:  #f7814c;\n",
       "            color:  #000000;\n",
       "        }    #T_74629fa4_c8d3_11ea_9654_507b9d529891row28_col5 {\n",
       "            background-color:  #ebf7a3;\n",
       "            color:  #000000;\n",
       "        }    #T_74629fa4_c8d3_11ea_9654_507b9d529891row28_col6 {\n",
       "            background-color:  #fa9656;\n",
       "            color:  #000000;\n",
       "        }    #T_74629fa4_c8d3_11ea_9654_507b9d529891row29_col3 {\n",
       "            background-color:  #ebf7a3;\n",
       "            color:  #000000;\n",
       "        }    #T_74629fa4_c8d3_11ea_9654_507b9d529891row29_col4 {\n",
       "            background-color:  #ef633f;\n",
       "            color:  #000000;\n",
       "        }    #T_74629fa4_c8d3_11ea_9654_507b9d529891row29_col5 {\n",
       "            background-color:  #eef8a8;\n",
       "            color:  #000000;\n",
       "        }    #T_74629fa4_c8d3_11ea_9654_507b9d529891row29_col6 {\n",
       "            background-color:  #fdb768;\n",
       "            color:  #000000;\n",
       "        }    #T_74629fa4_c8d3_11ea_9654_507b9d529891row30_col3 {\n",
       "            background-color:  #e9f6a1;\n",
       "            color:  #000000;\n",
       "        }    #T_74629fa4_c8d3_11ea_9654_507b9d529891row30_col4 {\n",
       "            background-color:  #3ca959;\n",
       "            color:  #000000;\n",
       "        }    #T_74629fa4_c8d3_11ea_9654_507b9d529891row30_col5 {\n",
       "            background-color:  #eff8aa;\n",
       "            color:  #000000;\n",
       "        }    #T_74629fa4_c8d3_11ea_9654_507b9d529891row30_col6 {\n",
       "            background-color:  #30a356;\n",
       "            color:  #000000;\n",
       "        }    #T_74629fa4_c8d3_11ea_9654_507b9d529891row31_col3 {\n",
       "            background-color:  #ddf191;\n",
       "            color:  #000000;\n",
       "        }    #T_74629fa4_c8d3_11ea_9654_507b9d529891row31_col4 {\n",
       "            background-color:  #d7ee8a;\n",
       "            color:  #000000;\n",
       "        }    #T_74629fa4_c8d3_11ea_9654_507b9d529891row31_col5 {\n",
       "            background-color:  #f1f9ac;\n",
       "            color:  #000000;\n",
       "        }    #T_74629fa4_c8d3_11ea_9654_507b9d529891row31_col6 {\n",
       "            background-color:  #b1de71;\n",
       "            color:  #000000;\n",
       "        }    #T_74629fa4_c8d3_11ea_9654_507b9d529891row32_col3 {\n",
       "            background-color:  #f2faae;\n",
       "            color:  #000000;\n",
       "        }    #T_74629fa4_c8d3_11ea_9654_507b9d529891row32_col4 {\n",
       "            background-color:  #f99153;\n",
       "            color:  #000000;\n",
       "        }    #T_74629fa4_c8d3_11ea_9654_507b9d529891row32_col5 {\n",
       "            background-color:  #f5fbb2;\n",
       "            color:  #000000;\n",
       "        }    #T_74629fa4_c8d3_11ea_9654_507b9d529891row32_col6 {\n",
       "            background-color:  #fdad60;\n",
       "            color:  #000000;\n",
       "        }    #T_74629fa4_c8d3_11ea_9654_507b9d529891row33_col3 {\n",
       "            background-color:  #e9f6a1;\n",
       "            color:  #000000;\n",
       "        }    #T_74629fa4_c8d3_11ea_9654_507b9d529891row33_col4 {\n",
       "            background-color:  #fed683;\n",
       "            color:  #000000;\n",
       "        }    #T_74629fa4_c8d3_11ea_9654_507b9d529891row33_col5 {\n",
       "            background-color:  #f7fcb4;\n",
       "            color:  #000000;\n",
       "        }    #T_74629fa4_c8d3_11ea_9654_507b9d529891row33_col6 {\n",
       "            background-color:  #fed884;\n",
       "            color:  #000000;\n",
       "        }    #T_74629fa4_c8d3_11ea_9654_507b9d529891row34_col3 {\n",
       "            background-color:  #ebf7a3;\n",
       "            color:  #000000;\n",
       "        }    #T_74629fa4_c8d3_11ea_9654_507b9d529891row34_col4 {\n",
       "            background-color:  #fed683;\n",
       "            color:  #000000;\n",
       "        }    #T_74629fa4_c8d3_11ea_9654_507b9d529891row34_col5 {\n",
       "            background-color:  #f8fcb6;\n",
       "            color:  #000000;\n",
       "        }    #T_74629fa4_c8d3_11ea_9654_507b9d529891row34_col6 {\n",
       "            background-color:  #fed884;\n",
       "            color:  #000000;\n",
       "        }    #T_74629fa4_c8d3_11ea_9654_507b9d529891row35_col3 {\n",
       "            background-color:  #fdfebc;\n",
       "            color:  #000000;\n",
       "        }    #T_74629fa4_c8d3_11ea_9654_507b9d529891row35_col4 {\n",
       "            background-color:  #fdb567;\n",
       "            color:  #000000;\n",
       "        }    #T_74629fa4_c8d3_11ea_9654_507b9d529891row35_col5 {\n",
       "            background-color:  #fee08b;\n",
       "            color:  #000000;\n",
       "        }    #T_74629fa4_c8d3_11ea_9654_507b9d529891row35_col6 {\n",
       "            background-color:  #fdbd6d;\n",
       "            color:  #000000;\n",
       "        }    #T_74629fa4_c8d3_11ea_9654_507b9d529891row36_col3 {\n",
       "            background-color:  #f7844e;\n",
       "            color:  #000000;\n",
       "        }    #T_74629fa4_c8d3_11ea_9654_507b9d529891row36_col4 {\n",
       "            background-color:  #fecc7b;\n",
       "            color:  #000000;\n",
       "        }    #T_74629fa4_c8d3_11ea_9654_507b9d529891row36_col5 {\n",
       "            background-color:  #f57748;\n",
       "            color:  #000000;\n",
       "        }    #T_74629fa4_c8d3_11ea_9654_507b9d529891row36_col6 {\n",
       "            background-color:  #feec9f;\n",
       "            color:  #000000;\n",
       "        }    #T_74629fa4_c8d3_11ea_9654_507b9d529891row37_col3 {\n",
       "            background-color:  #ec5c3b;\n",
       "            color:  #000000;\n",
       "        }    #T_74629fa4_c8d3_11ea_9654_507b9d529891row37_col4 {\n",
       "            background-color:  #097940;\n",
       "            color:  #f1f1f1;\n",
       "        }    #T_74629fa4_c8d3_11ea_9654_507b9d529891row37_col5 {\n",
       "            background-color:  #ec5c3b;\n",
       "            color:  #000000;\n",
       "        }    #T_74629fa4_c8d3_11ea_9654_507b9d529891row37_col6 {\n",
       "            background-color:  #097940;\n",
       "            color:  #f1f1f1;\n",
       "        }    #T_74629fa4_c8d3_11ea_9654_507b9d529891row38_col3 {\n",
       "            background-color:  #a50026;\n",
       "            color:  #f1f1f1;\n",
       "        }    #T_74629fa4_c8d3_11ea_9654_507b9d529891row38_col4 {\n",
       "            background-color:  #bde379;\n",
       "            color:  #000000;\n",
       "        }    #T_74629fa4_c8d3_11ea_9654_507b9d529891row38_col5 {\n",
       "            background-color:  #a50026;\n",
       "            color:  #f1f1f1;\n",
       "        }    #T_74629fa4_c8d3_11ea_9654_507b9d529891row38_col6 {\n",
       "            background-color:  #addc6f;\n",
       "            color:  #000000;\n",
       "        }</style><table id=\"T_74629fa4_c8d3_11ea_9654_507b9d529891\" ><thead>    <tr>        <th class=\"blank level0\" ></th>        <th class=\"col_heading level0 col0\" >Country</th>        <th class=\"col_heading level0 col1\" >Price (EOD)</th>        <th class=\"col_heading level0 col2\" >Chg</th>        <th class=\"col_heading level0 col3\" >Chg (%)</th>        <th class=\"col_heading level0 col4\" >Chg YTD (%)</th>        <th class=\"col_heading level0 col5\" >$ Chg (%)</th>        <th class=\"col_heading level0 col6\" >$ Chg YTD (%)</th>    </tr>    <tr>        <th class=\"index_name level0\" >Indices</th>        <th class=\"blank\" ></th>        <th class=\"blank\" ></th>        <th class=\"blank\" ></th>        <th class=\"blank\" ></th>        <th class=\"blank\" ></th>        <th class=\"blank\" ></th>        <th class=\"blank\" ></th>    </tr></thead><tbody>\n",
       "                <tr>\n",
       "                        <th id=\"T_74629fa4_c8d3_11ea_9654_507b9d529891level0_row0\" class=\"row_heading level0 row0\" >FTSE MIB</th>\n",
       "                        <td id=\"T_74629fa4_c8d3_11ea_9654_507b9d529891row0_col0\" class=\"data row0 col0\" >Italy</td>\n",
       "                        <td id=\"T_74629fa4_c8d3_11ea_9654_507b9d529891row0_col1\" class=\"data row0 col1\" >20356.09</td>\n",
       "                        <td id=\"T_74629fa4_c8d3_11ea_9654_507b9d529891row0_col2\" class=\"data row0 col2\" >850.14</td>\n",
       "                        <td id=\"T_74629fa4_c8d3_11ea_9654_507b9d529891row0_col3\" class=\"data row0 col3\" >4.36%</td>\n",
       "                        <td id=\"T_74629fa4_c8d3_11ea_9654_507b9d529891row0_col4\" class=\"data row0 col4\" >-13.68%</td>\n",
       "                        <td id=\"T_74629fa4_c8d3_11ea_9654_507b9d529891row0_col5\" class=\"data row0 col5\" >5.08%</td>\n",
       "                        <td id=\"T_74629fa4_c8d3_11ea_9654_507b9d529891row0_col6\" class=\"data row0 col6\" >-11.70%</td>\n",
       "            </tr>\n",
       "            <tr>\n",
       "                        <th id=\"T_74629fa4_c8d3_11ea_9654_507b9d529891level0_row1\" class=\"row_heading level0 row1\" >SmallCap 2000</th>\n",
       "                        <td id=\"T_74629fa4_c8d3_11ea_9654_507b9d529891row1_col0\" class=\"data row1 col0\" >United States</td>\n",
       "                        <td id=\"T_74629fa4_c8d3_11ea_9654_507b9d529891row1_col1\" class=\"data row1 col1\" >1467.56</td>\n",
       "                        <td id=\"T_74629fa4_c8d3_11ea_9654_507b9d529891row1_col2\" class=\"data row1 col2\" >68.64</td>\n",
       "                        <td id=\"T_74629fa4_c8d3_11ea_9654_507b9d529891row1_col3\" class=\"data row1 col3\" >4.91%</td>\n",
       "                        <td id=\"T_74629fa4_c8d3_11ea_9654_507b9d529891row1_col4\" class=\"data row1 col4\" >-11.77%</td>\n",
       "                        <td id=\"T_74629fa4_c8d3_11ea_9654_507b9d529891row1_col5\" class=\"data row1 col5\" >4.91%</td>\n",
       "                        <td id=\"T_74629fa4_c8d3_11ea_9654_507b9d529891row1_col6\" class=\"data row1 col6\" >-11.77%</td>\n",
       "            </tr>\n",
       "            <tr>\n",
       "                        <th id=\"T_74629fa4_c8d3_11ea_9654_507b9d529891level0_row2\" class=\"row_heading level0 row2\" >CAC 40</th>\n",
       "                        <td id=\"T_74629fa4_c8d3_11ea_9654_507b9d529891row2_col0\" class=\"data row2 col0\" >France</td>\n",
       "                        <td id=\"T_74629fa4_c8d3_11ea_9654_507b9d529891row2_col1\" class=\"data row2 col1\" >5085.28</td>\n",
       "                        <td id=\"T_74629fa4_c8d3_11ea_9654_507b9d529891row2_col2\" class=\"data row2 col2\" >164.27</td>\n",
       "                        <td id=\"T_74629fa4_c8d3_11ea_9654_507b9d529891row2_col3\" class=\"data row2 col3\" >3.34%</td>\n",
       "                        <td id=\"T_74629fa4_c8d3_11ea_9654_507b9d529891row2_col4\" class=\"data row2 col4\" >-15.44%</td>\n",
       "                        <td id=\"T_74629fa4_c8d3_11ea_9654_507b9d529891row2_col5\" class=\"data row2 col5\" >4.05%</td>\n",
       "                        <td id=\"T_74629fa4_c8d3_11ea_9654_507b9d529891row2_col6\" class=\"data row2 col6\" >-13.50%</td>\n",
       "            </tr>\n",
       "            <tr>\n",
       "                        <th id=\"T_74629fa4_c8d3_11ea_9654_507b9d529891level0_row3\" class=\"row_heading level0 row3\" >IBEX 35</th>\n",
       "                        <td id=\"T_74629fa4_c8d3_11ea_9654_507b9d529891row3_col0\" class=\"data row3 col0\" >Spain</td>\n",
       "                        <td id=\"T_74629fa4_c8d3_11ea_9654_507b9d529891row3_col1\" class=\"data row3 col1\" >7474.70</td>\n",
       "                        <td id=\"T_74629fa4_c8d3_11ea_9654_507b9d529891row3_col2\" class=\"data row3 col2\" >237.80</td>\n",
       "                        <td id=\"T_74629fa4_c8d3_11ea_9654_507b9d529891row3_col3\" class=\"data row3 col3\" >3.29%</td>\n",
       "                        <td id=\"T_74629fa4_c8d3_11ea_9654_507b9d529891row3_col4\" class=\"data row3 col4\" >-22.15%</td>\n",
       "                        <td id=\"T_74629fa4_c8d3_11ea_9654_507b9d529891row3_col5\" class=\"data row3 col5\" >4.00%</td>\n",
       "                        <td id=\"T_74629fa4_c8d3_11ea_9654_507b9d529891row3_col6\" class=\"data row3 col6\" >-20.37%</td>\n",
       "            </tr>\n",
       "            <tr>\n",
       "                        <th id=\"T_74629fa4_c8d3_11ea_9654_507b9d529891level0_row4\" class=\"row_heading level0 row4\" >Euro Stoxx 50</th>\n",
       "                        <td id=\"T_74629fa4_c8d3_11ea_9654_507b9d529891row4_col0\" class=\"data row4 col0\" >Germany</td>\n",
       "                        <td id=\"T_74629fa4_c8d3_11ea_9654_507b9d529891row4_col1\" class=\"data row4 col1\" >3365.35</td>\n",
       "                        <td id=\"T_74629fa4_c8d3_11ea_9654_507b9d529891row4_col2\" class=\"data row4 col2\" >104.18</td>\n",
       "                        <td id=\"T_74629fa4_c8d3_11ea_9654_507b9d529891row4_col3\" class=\"data row4 col3\" >3.19%</td>\n",
       "                        <td id=\"T_74629fa4_c8d3_11ea_9654_507b9d529891row4_col4\" class=\"data row4 col4\" >-10.32%</td>\n",
       "                        <td id=\"T_74629fa4_c8d3_11ea_9654_507b9d529891row4_col5\" class=\"data row4 col5\" >3.90%</td>\n",
       "                        <td id=\"T_74629fa4_c8d3_11ea_9654_507b9d529891row4_col6\" class=\"data row4 col6\" >-8.27%</td>\n",
       "            </tr>\n",
       "            <tr>\n",
       "                        <th id=\"T_74629fa4_c8d3_11ea_9654_507b9d529891level0_row5\" class=\"row_heading level0 row5\" >DAX</th>\n",
       "                        <td id=\"T_74629fa4_c8d3_11ea_9654_507b9d529891row5_col0\" class=\"data row5 col0\" >Germany</td>\n",
       "                        <td id=\"T_74629fa4_c8d3_11ea_9654_507b9d529891row5_col1\" class=\"data row5 col1\" >12874.97</td>\n",
       "                        <td id=\"T_74629fa4_c8d3_11ea_9654_507b9d529891row5_col2\" class=\"data row5 col2\" >385.51</td>\n",
       "                        <td id=\"T_74629fa4_c8d3_11ea_9654_507b9d529891row5_col3\" class=\"data row5 col3\" >3.09%</td>\n",
       "                        <td id=\"T_74629fa4_c8d3_11ea_9654_507b9d529891row5_col4\" class=\"data row5 col4\" >-1.92%</td>\n",
       "                        <td id=\"T_74629fa4_c8d3_11ea_9654_507b9d529891row5_col5\" class=\"data row5 col5\" >3.80%</td>\n",
       "                        <td id=\"T_74629fa4_c8d3_11ea_9654_507b9d529891row5_col6\" class=\"data row5 col6\" >0.32%</td>\n",
       "            </tr>\n",
       "            <tr>\n",
       "                        <th id=\"T_74629fa4_c8d3_11ea_9654_507b9d529891level0_row6\" class=\"row_heading level0 row6\" >FTSE 100</th>\n",
       "                        <td id=\"T_74629fa4_c8d3_11ea_9654_507b9d529891row6_col0\" class=\"data row6 col0\" >United Kingdom</td>\n",
       "                        <td id=\"T_74629fa4_c8d3_11ea_9654_507b9d529891row6_col1\" class=\"data row6 col1\" >6250.69</td>\n",
       "                        <td id=\"T_74629fa4_c8d3_11ea_9654_507b9d529891row6_col2\" class=\"data row6 col2\" >201.07</td>\n",
       "                        <td id=\"T_74629fa4_c8d3_11ea_9654_507b9d529891row6_col3\" class=\"data row6 col3\" >3.32%</td>\n",
       "                        <td id=\"T_74629fa4_c8d3_11ea_9654_507b9d529891row6_col4\" class=\"data row6 col4\" >-17.49%</td>\n",
       "                        <td id=\"T_74629fa4_c8d3_11ea_9654_507b9d529891row6_col5\" class=\"data row6 col5\" >3.14%</td>\n",
       "                        <td id=\"T_74629fa4_c8d3_11ea_9654_507b9d529891row6_col6\" class=\"data row6 col6\" >-20.57%</td>\n",
       "            </tr>\n",
       "            <tr>\n",
       "                        <th id=\"T_74629fa4_c8d3_11ea_9654_507b9d529891level0_row7\" class=\"row_heading level0 row7\" >S&P/TSX</th>\n",
       "                        <td id=\"T_74629fa4_c8d3_11ea_9654_507b9d529891row7_col0\" class=\"data row7 col0\" >Canada</td>\n",
       "                        <td id=\"T_74629fa4_c8d3_11ea_9654_507b9d529891row7_col1\" class=\"data row7 col1\" >16024.50</td>\n",
       "                        <td id=\"T_74629fa4_c8d3_11ea_9654_507b9d529891row7_col2\" class=\"data row7 col2\" >455.86</td>\n",
       "                        <td id=\"T_74629fa4_c8d3_11ea_9654_507b9d529891row7_col3\" class=\"data row7 col3\" >2.93%</td>\n",
       "                        <td id=\"T_74629fa4_c8d3_11ea_9654_507b9d529891row7_col4\" class=\"data row7 col4\" >-6.32%</td>\n",
       "                        <td id=\"T_74629fa4_c8d3_11ea_9654_507b9d529891row7_col5\" class=\"data row7 col5\" >3.01%</td>\n",
       "                        <td id=\"T_74629fa4_c8d3_11ea_9654_507b9d529891row7_col6\" class=\"data row7 col6\" >-9.93%</td>\n",
       "            </tr>\n",
       "            <tr>\n",
       "                        <th id=\"T_74629fa4_c8d3_11ea_9654_507b9d529891level0_row8\" class=\"row_heading level0 row8\" >OMXC25</th>\n",
       "                        <td id=\"T_74629fa4_c8d3_11ea_9654_507b9d529891row8_col0\" class=\"data row8 col0\" >Denmark</td>\n",
       "                        <td id=\"T_74629fa4_c8d3_11ea_9654_507b9d529891row8_col1\" class=\"data row8 col1\" >1436.48</td>\n",
       "                        <td id=\"T_74629fa4_c8d3_11ea_9654_507b9d529891row8_col2\" class=\"data row8 col2\" >31.28</td>\n",
       "                        <td id=\"T_74629fa4_c8d3_11ea_9654_507b9d529891row8_col3\" class=\"data row8 col3\" >2.23%</td>\n",
       "                        <td id=\"T_74629fa4_c8d3_11ea_9654_507b9d529891row8_col4\" class=\"data row8 col4\" >16.30%</td>\n",
       "                        <td id=\"T_74629fa4_c8d3_11ea_9654_507b9d529891row8_col5\" class=\"data row8 col5\" >2.98%</td>\n",
       "                        <td id=\"T_74629fa4_c8d3_11ea_9654_507b9d529891row8_col6\" class=\"data row8 col6\" >19.39%</td>\n",
       "            </tr>\n",
       "            <tr>\n",
       "                        <th id=\"T_74629fa4_c8d3_11ea_9654_507b9d529891level0_row9\" class=\"row_heading level0 row9\" >BIST 100</th>\n",
       "                        <td id=\"T_74629fa4_c8d3_11ea_9654_507b9d529891row9_col0\" class=\"data row9 col0\" >Turkey</td>\n",
       "                        <td id=\"T_74629fa4_c8d3_11ea_9654_507b9d529891row9_col1\" class=\"data row9 col1\" >118807.53</td>\n",
       "                        <td id=\"T_74629fa4_c8d3_11ea_9654_507b9d529891row9_col2\" class=\"data row9 col2\" >3013.94</td>\n",
       "                        <td id=\"T_74629fa4_c8d3_11ea_9654_507b9d529891row9_col3\" class=\"data row9 col3\" >2.60%</td>\n",
       "                        <td id=\"T_74629fa4_c8d3_11ea_9654_507b9d529891row9_col4\" class=\"data row9 col4\" >6.64%</td>\n",
       "                        <td id=\"T_74629fa4_c8d3_11ea_9654_507b9d529891row9_col5\" class=\"data row9 col5\" >2.68%</td>\n",
       "                        <td id=\"T_74629fa4_c8d3_11ea_9654_507b9d529891row9_col6\" class=\"data row9 col6\" >-7.13%</td>\n",
       "            </tr>\n",
       "            <tr>\n",
       "                        <th id=\"T_74629fa4_c8d3_11ea_9654_507b9d529891level0_row10\" class=\"row_heading level0 row10\" >SMI</th>\n",
       "                        <td id=\"T_74629fa4_c8d3_11ea_9654_507b9d529891row10_col0\" class=\"data row10 col0\" >Switzerland</td>\n",
       "                        <td id=\"T_74629fa4_c8d3_11ea_9654_507b9d529891row10_col1\" class=\"data row10 col1\" >10433.43</td>\n",
       "                        <td id=\"T_74629fa4_c8d3_11ea_9654_507b9d529891row10_col2\" class=\"data row10 col2\" >290.05</td>\n",
       "                        <td id=\"T_74629fa4_c8d3_11ea_9654_507b9d529891row10_col3\" class=\"data row10 col3\" >2.86%</td>\n",
       "                        <td id=\"T_74629fa4_c8d3_11ea_9654_507b9d529891row10_col4\" class=\"data row10 col4\" >-2.18%</td>\n",
       "                        <td id=\"T_74629fa4_c8d3_11ea_9654_507b9d529891row10_col5\" class=\"data row10 col5\" >2.22%</td>\n",
       "                        <td id=\"T_74629fa4_c8d3_11ea_9654_507b9d529891row10_col6\" class=\"data row10 col6\" >0.67%</td>\n",
       "            </tr>\n",
       "            <tr>\n",
       "                        <th id=\"T_74629fa4_c8d3_11ea_9654_507b9d529891level0_row11\" class=\"row_heading level0 row11\" >S&P 500</th>\n",
       "                        <td id=\"T_74629fa4_c8d3_11ea_9654_507b9d529891row11_col0\" class=\"data row11 col0\" >United States</td>\n",
       "                        <td id=\"T_74629fa4_c8d3_11ea_9654_507b9d529891row11_col1\" class=\"data row11 col1\" >3215.57</td>\n",
       "                        <td id=\"T_74629fa4_c8d3_11ea_9654_507b9d529891row11_col2\" class=\"data row11 col2\" >63.52</td>\n",
       "                        <td id=\"T_74629fa4_c8d3_11ea_9654_507b9d529891row11_col3\" class=\"data row11 col3\" >2.02%</td>\n",
       "                        <td id=\"T_74629fa4_c8d3_11ea_9654_507b9d529891row11_col4\" class=\"data row11 col4\" >-0.95%</td>\n",
       "                        <td id=\"T_74629fa4_c8d3_11ea_9654_507b9d529891row11_col5\" class=\"data row11 col5\" >2.02%</td>\n",
       "                        <td id=\"T_74629fa4_c8d3_11ea_9654_507b9d529891row11_col6\" class=\"data row11 col6\" >-0.95%</td>\n",
       "            </tr>\n",
       "            <tr>\n",
       "                        <th id=\"T_74629fa4_c8d3_11ea_9654_507b9d529891level0_row12\" class=\"row_heading level0 row12\" >AEX</th>\n",
       "                        <td id=\"T_74629fa4_c8d3_11ea_9654_507b9d529891row12_col0\" class=\"data row12 col0\" >Netherlands</td>\n",
       "                        <td id=\"T_74629fa4_c8d3_11ea_9654_507b9d529891row12_col1\" class=\"data row12 col1\" >573.94</td>\n",
       "                        <td id=\"T_74629fa4_c8d3_11ea_9654_507b9d529891row12_col2\" class=\"data row12 col2\" >6.56</td>\n",
       "                        <td id=\"T_74629fa4_c8d3_11ea_9654_507b9d529891row12_col3\" class=\"data row12 col3\" >1.16%</td>\n",
       "                        <td id=\"T_74629fa4_c8d3_11ea_9654_507b9d529891row12_col4\" class=\"data row12 col4\" >-5.48%</td>\n",
       "                        <td id=\"T_74629fa4_c8d3_11ea_9654_507b9d529891row12_col5\" class=\"data row12 col5\" >1.85%</td>\n",
       "                        <td id=\"T_74629fa4_c8d3_11ea_9654_507b9d529891row12_col6\" class=\"data row12 col6\" >-3.32%</td>\n",
       "            </tr>\n",
       "            <tr>\n",
       "                        <th id=\"T_74629fa4_c8d3_11ea_9654_507b9d529891level0_row13\" class=\"row_heading level0 row13\" >FTSE/JSE Top 40</th>\n",
       "                        <td id=\"T_74629fa4_c8d3_11ea_9654_507b9d529891row13_col0\" class=\"data row13 col0\" >South Africa</td>\n",
       "                        <td id=\"T_74629fa4_c8d3_11ea_9654_507b9d529891row13_col1\" class=\"data row13 col1\" >51363.49</td>\n",
       "                        <td id=\"T_74629fa4_c8d3_11ea_9654_507b9d529891row13_col2\" class=\"data row13 col2\" >-173.42</td>\n",
       "                        <td id=\"T_74629fa4_c8d3_11ea_9654_507b9d529891row13_col3\" class=\"data row13 col3\" >-0.34%</td>\n",
       "                        <td id=\"T_74629fa4_c8d3_11ea_9654_507b9d529891row13_col4\" class=\"data row13 col4\" >0.71%</td>\n",
       "                        <td id=\"T_74629fa4_c8d3_11ea_9654_507b9d529891row13_col5\" class=\"data row13 col5\" >1.64%</td>\n",
       "                        <td id=\"T_74629fa4_c8d3_11ea_9654_507b9d529891row13_col6\" class=\"data row13 col6\" >-12.99%</td>\n",
       "            </tr>\n",
       "            <tr>\n",
       "                        <th id=\"T_74629fa4_c8d3_11ea_9654_507b9d529891level0_row14\" class=\"row_heading level0 row14\" >Nikkei 225</th>\n",
       "                        <td id=\"T_74629fa4_c8d3_11ea_9654_507b9d529891row14_col0\" class=\"data row14 col0\" >Japan</td>\n",
       "                        <td id=\"T_74629fa4_c8d3_11ea_9654_507b9d529891row14_col1\" class=\"data row14 col1\" >22770.36</td>\n",
       "                        <td id=\"T_74629fa4_c8d3_11ea_9654_507b9d529891row14_col2\" class=\"data row14 col2\" >241.07</td>\n",
       "                        <td id=\"T_74629fa4_c8d3_11ea_9654_507b9d529891row14_col3\" class=\"data row14 col3\" >1.07%</td>\n",
       "                        <td id=\"T_74629fa4_c8d3_11ea_9654_507b9d529891row14_col4\" class=\"data row14 col4\" >-1.87%</td>\n",
       "                        <td id=\"T_74629fa4_c8d3_11ea_9654_507b9d529891row14_col5\" class=\"data row14 col5\" >1.42%</td>\n",
       "                        <td id=\"T_74629fa4_c8d3_11ea_9654_507b9d529891row14_col6\" class=\"data row14 col6\" >-0.91%</td>\n",
       "            </tr>\n",
       "            <tr>\n",
       "                        <th id=\"T_74629fa4_c8d3_11ea_9654_507b9d529891level0_row15\" class=\"row_heading level0 row15\" >COLCAP</th>\n",
       "                        <td id=\"T_74629fa4_c8d3_11ea_9654_507b9d529891row15_col0\" class=\"data row15 col0\" >Colombia</td>\n",
       "                        <td id=\"T_74629fa4_c8d3_11ea_9654_507b9d529891row15_col1\" class=\"data row15 col1\" >1153.15</td>\n",
       "                        <td id=\"T_74629fa4_c8d3_11ea_9654_507b9d529891row15_col2\" class=\"data row15 col2\" >10.05</td>\n",
       "                        <td id=\"T_74629fa4_c8d3_11ea_9654_507b9d529891row15_col3\" class=\"data row15 col3\" >0.88%</td>\n",
       "                        <td id=\"T_74629fa4_c8d3_11ea_9654_507b9d529891row15_col4\" class=\"data row15 col4\" >-31.22%</td>\n",
       "                        <td id=\"T_74629fa4_c8d3_11ea_9654_507b9d529891row15_col5\" class=\"data row15 col5\" >1.36%</td>\n",
       "                        <td id=\"T_74629fa4_c8d3_11ea_9654_507b9d529891row15_col6\" class=\"data row15 col6\" >-38.15%</td>\n",
       "            </tr>\n",
       "            <tr>\n",
       "                        <th id=\"T_74629fa4_c8d3_11ea_9654_507b9d529891level0_row16\" class=\"row_heading level0 row16\" >S&P/ASX 200</th>\n",
       "                        <td id=\"T_74629fa4_c8d3_11ea_9654_507b9d529891row16_col0\" class=\"data row16 col0\" >Australia</td>\n",
       "                        <td id=\"T_74629fa4_c8d3_11ea_9654_507b9d529891row16_col1\" class=\"data row16 col1\" >6010.90</td>\n",
       "                        <td id=\"T_74629fa4_c8d3_11ea_9654_507b9d529891row16_col2\" class=\"data row16 col2\" >55.40</td>\n",
       "                        <td id=\"T_74629fa4_c8d3_11ea_9654_507b9d529891row16_col3\" class=\"data row16 col3\" >0.93%</td>\n",
       "                        <td id=\"T_74629fa4_c8d3_11ea_9654_507b9d529891row16_col4\" class=\"data row16 col4\" >-10.76%</td>\n",
       "                        <td id=\"T_74629fa4_c8d3_11ea_9654_507b9d529891row16_col5\" class=\"data row16 col5\" >1.22%</td>\n",
       "                        <td id=\"T_74629fa4_c8d3_11ea_9654_507b9d529891row16_col6\" class=\"data row16 col6\" >-9.93%</td>\n",
       "            </tr>\n",
       "            <tr>\n",
       "                        <th id=\"T_74629fa4_c8d3_11ea_9654_507b9d529891level0_row17\" class=\"row_heading level0 row17\" >S&P Lima General</th>\n",
       "                        <td id=\"T_74629fa4_c8d3_11ea_9654_507b9d529891row17_col0\" class=\"data row17 col0\" >Peru</td>\n",
       "                        <td id=\"T_74629fa4_c8d3_11ea_9654_507b9d529891row17_col1\" class=\"data row17 col1\" >16649.49</td>\n",
       "                        <td id=\"T_74629fa4_c8d3_11ea_9654_507b9d529891row17_col2\" class=\"data row17 col2\" >49.84</td>\n",
       "                        <td id=\"T_74629fa4_c8d3_11ea_9654_507b9d529891row17_col3\" class=\"data row17 col3\" >0.30%</td>\n",
       "                        <td id=\"T_74629fa4_c8d3_11ea_9654_507b9d529891row17_col4\" class=\"data row17 col4\" >-19.05%</td>\n",
       "                        <td id=\"T_74629fa4_c8d3_11ea_9654_507b9d529891row17_col5\" class=\"data row17 col5\" >1.05%</td>\n",
       "                        <td id=\"T_74629fa4_c8d3_11ea_9654_507b9d529891row17_col6\" class=\"data row17 col6\" >-23.22%</td>\n",
       "            </tr>\n",
       "            <tr>\n",
       "                        <th id=\"T_74629fa4_c8d3_11ea_9654_507b9d529891level0_row18\" class=\"row_heading level0 row18\" >Bovespa</th>\n",
       "                        <td id=\"T_74629fa4_c8d3_11ea_9654_507b9d529891row18_col0\" class=\"data row18 col0\" >Brazil</td>\n",
       "                        <td id=\"T_74629fa4_c8d3_11ea_9654_507b9d529891row18_col1\" class=\"data row18 col1\" >100553.27</td>\n",
       "                        <td id=\"T_74629fa4_c8d3_11ea_9654_507b9d529891row18_col2\" class=\"data row18 col2\" >1392.94</td>\n",
       "                        <td id=\"T_74629fa4_c8d3_11ea_9654_507b9d529891row18_col3\" class=\"data row18 col3\" >1.40%</td>\n",
       "                        <td id=\"T_74629fa4_c8d3_11ea_9654_507b9d529891row18_col4\" class=\"data row18 col4\" >-13.97%</td>\n",
       "                        <td id=\"T_74629fa4_c8d3_11ea_9654_507b9d529891row18_col5\" class=\"data row18 col5\" >0.94%</td>\n",
       "                        <td id=\"T_74629fa4_c8d3_11ea_9654_507b9d529891row18_col6\" class=\"data row18 col6\" >-34.97%</td>\n",
       "            </tr>\n",
       "            <tr>\n",
       "                        <th id=\"T_74629fa4_c8d3_11ea_9654_507b9d529891level0_row19\" class=\"row_heading level0 row19\" >S&P CLX IPSA</th>\n",
       "                        <td id=\"T_74629fa4_c8d3_11ea_9654_507b9d529891row19_col0\" class=\"data row19 col0\" >Chile</td>\n",
       "                        <td id=\"T_74629fa4_c8d3_11ea_9654_507b9d529891row19_col1\" class=\"data row19 col1\" >4041.62</td>\n",
       "                        <td id=\"T_74629fa4_c8d3_11ea_9654_507b9d529891row19_col2\" class=\"data row19 col2\" >9.47</td>\n",
       "                        <td id=\"T_74629fa4_c8d3_11ea_9654_507b9d529891row19_col3\" class=\"data row19 col3\" >0.23%</td>\n",
       "                        <td id=\"T_74629fa4_c8d3_11ea_9654_507b9d529891row19_col4\" class=\"data row19 col4\" >-17.25%</td>\n",
       "                        <td id=\"T_74629fa4_c8d3_11ea_9654_507b9d529891row19_col5\" class=\"data row19 col5\" >0.84%</td>\n",
       "                        <td id=\"T_74629fa4_c8d3_11ea_9654_507b9d529891row19_col6\" class=\"data row19 col6\" >-19.15%</td>\n",
       "            </tr>\n",
       "            <tr>\n",
       "                        <th id=\"T_74629fa4_c8d3_11ea_9654_507b9d529891level0_row20\" class=\"row_heading level0 row20\" >S&P/BMV IPC</th>\n",
       "                        <td id=\"T_74629fa4_c8d3_11ea_9654_507b9d529891row20_col0\" class=\"data row20 col0\" >Mexico</td>\n",
       "                        <td id=\"T_74629fa4_c8d3_11ea_9654_507b9d529891row20_col1\" class=\"data row20 col1\" >36465.67</td>\n",
       "                        <td id=\"T_74629fa4_c8d3_11ea_9654_507b9d529891row20_col2\" class=\"data row20 col2\" >-330.28</td>\n",
       "                        <td id=\"T_74629fa4_c8d3_11ea_9654_507b9d529891row20_col3\" class=\"data row20 col3\" >-0.90%</td>\n",
       "                        <td id=\"T_74629fa4_c8d3_11ea_9654_507b9d529891row20_col4\" class=\"data row20 col4\" >-18.05%</td>\n",
       "                        <td id=\"T_74629fa4_c8d3_11ea_9654_507b9d529891row20_col5\" class=\"data row20 col5\" >0.67%</td>\n",
       "                        <td id=\"T_74629fa4_c8d3_11ea_9654_507b9d529891row20_col6\" class=\"data row20 col6\" >-30.43%</td>\n",
       "            </tr>\n",
       "            <tr>\n",
       "                        <th id=\"T_74629fa4_c8d3_11ea_9654_507b9d529891level0_row21\" class=\"row_heading level0 row21\" >NZX 50</th>\n",
       "                        <td id=\"T_74629fa4_c8d3_11ea_9654_507b9d529891row21_col0\" class=\"data row21 col0\" >New Zealand</td>\n",
       "                        <td id=\"T_74629fa4_c8d3_11ea_9654_507b9d529891row21_col1\" class=\"data row21 col1\" >11478.47</td>\n",
       "                        <td id=\"T_74629fa4_c8d3_11ea_9654_507b9d529891row21_col2\" class=\"data row21 col2\" >37.59</td>\n",
       "                        <td id=\"T_74629fa4_c8d3_11ea_9654_507b9d529891row21_col3\" class=\"data row21 col3\" >0.33%</td>\n",
       "                        <td id=\"T_74629fa4_c8d3_11ea_9654_507b9d529891row21_col4\" class=\"data row21 col4\" >-1.28%</td>\n",
       "                        <td id=\"T_74629fa4_c8d3_11ea_9654_507b9d529891row21_col5\" class=\"data row21 col5\" >0.31%</td>\n",
       "                        <td id=\"T_74629fa4_c8d3_11ea_9654_507b9d529891row21_col6\" class=\"data row21 col6\" >-2.50%</td>\n",
       "            </tr>\n",
       "            <tr>\n",
       "                        <th id=\"T_74629fa4_c8d3_11ea_9654_507b9d529891level0_row22\" class=\"row_heading level0 row22\" >Tadawul All Share</th>\n",
       "                        <td id=\"T_74629fa4_c8d3_11ea_9654_507b9d529891row22_col0\" class=\"data row22 col0\" >Saudi Arabia</td>\n",
       "                        <td id=\"T_74629fa4_c8d3_11ea_9654_507b9d529891row22_col1\" class=\"data row22 col1\" >7426.76</td>\n",
       "                        <td id=\"T_74629fa4_c8d3_11ea_9654_507b9d529891row22_col2\" class=\"data row22 col2\" >10.09</td>\n",
       "                        <td id=\"T_74629fa4_c8d3_11ea_9654_507b9d529891row22_col3\" class=\"data row22 col3\" >0.14%</td>\n",
       "                        <td id=\"T_74629fa4_c8d3_11ea_9654_507b9d529891row22_col4\" class=\"data row22 col4\" >-9.50%</td>\n",
       "                        <td id=\"T_74629fa4_c8d3_11ea_9654_507b9d529891row22_col5\" class=\"data row22 col5\" >0.14%</td>\n",
       "                        <td id=\"T_74629fa4_c8d3_11ea_9654_507b9d529891row22_col6\" class=\"data row22 col6\" >-9.38%</td>\n",
       "            </tr>\n",
       "            <tr>\n",
       "                        <th id=\"T_74629fa4_c8d3_11ea_9654_507b9d529891level0_row23\" class=\"row_heading level0 row23\" >KOSPI</th>\n",
       "                        <td id=\"T_74629fa4_c8d3_11ea_9654_507b9d529891row23_col0\" class=\"data row23 col0\" >South Korea</td>\n",
       "                        <td id=\"T_74629fa4_c8d3_11ea_9654_507b9d529891row23_col1\" class=\"data row23 col1\" >2183.76</td>\n",
       "                        <td id=\"T_74629fa4_c8d3_11ea_9654_507b9d529891row23_col2\" class=\"data row23 col2\" >15.86</td>\n",
       "                        <td id=\"T_74629fa4_c8d3_11ea_9654_507b9d529891row23_col3\" class=\"data row23 col3\" >0.73%</td>\n",
       "                        <td id=\"T_74629fa4_c8d3_11ea_9654_507b9d529891row23_col4\" class=\"data row23 col4\" >1.33%</td>\n",
       "                        <td id=\"T_74629fa4_c8d3_11ea_9654_507b9d529891row23_col5\" class=\"data row23 col5\" >0.02%</td>\n",
       "                        <td id=\"T_74629fa4_c8d3_11ea_9654_507b9d529891row23_col6\" class=\"data row23 col6\" >-1.59%</td>\n",
       "            </tr>\n",
       "            <tr>\n",
       "                        <th id=\"T_74629fa4_c8d3_11ea_9654_507b9d529891level0_row24\" class=\"row_heading level0 row24\" >KOSDAQ</th>\n",
       "                        <td id=\"T_74629fa4_c8d3_11ea_9654_507b9d529891row24_col0\" class=\"data row24 col0\" >South Korea</td>\n",
       "                        <td id=\"T_74629fa4_c8d3_11ea_9654_507b9d529891row24_col1\" class=\"data row24 col1\" >775.07</td>\n",
       "                        <td id=\"T_74629fa4_c8d3_11ea_9654_507b9d529891row24_col2\" class=\"data row24 col2\" >2.17</td>\n",
       "                        <td id=\"T_74629fa4_c8d3_11ea_9654_507b9d529891row24_col3\" class=\"data row24 col3\" >0.28%</td>\n",
       "                        <td id=\"T_74629fa4_c8d3_11ea_9654_507b9d529891row24_col4\" class=\"data row24 col4\" >18.28%</td>\n",
       "                        <td id=\"T_74629fa4_c8d3_11ea_9654_507b9d529891row24_col5\" class=\"data row24 col5\" >-0.43%</td>\n",
       "                        <td id=\"T_74629fa4_c8d3_11ea_9654_507b9d529891row24_col6\" class=\"data row24 col6\" >14.86%</td>\n",
       "            </tr>\n",
       "            <tr>\n",
       "                        <th id=\"T_74629fa4_c8d3_11ea_9654_507b9d529891level0_row25\" class=\"row_heading level0 row25\" >KLCI</th>\n",
       "                        <td id=\"T_74629fa4_c8d3_11ea_9654_507b9d529891row25_col0\" class=\"data row25 col0\" >Malaysia</td>\n",
       "                        <td id=\"T_74629fa4_c8d3_11ea_9654_507b9d529891row25_col1\" class=\"data row25 col1\" >1573.48</td>\n",
       "                        <td id=\"T_74629fa4_c8d3_11ea_9654_507b9d529891row25_col2\" class=\"data row25 col2\" >-9.77</td>\n",
       "                        <td id=\"T_74629fa4_c8d3_11ea_9654_507b9d529891row25_col3\" class=\"data row25 col3\" >-0.62%</td>\n",
       "                        <td id=\"T_74629fa4_c8d3_11ea_9654_507b9d529891row25_col4\" class=\"data row25 col4\" >-1.52%</td>\n",
       "                        <td id=\"T_74629fa4_c8d3_11ea_9654_507b9d529891row25_col5\" class=\"data row25 col5\" >-0.45%</td>\n",
       "                        <td id=\"T_74629fa4_c8d3_11ea_9654_507b9d529891row25_col6\" class=\"data row25 col6\" >-5.22%</td>\n",
       "            </tr>\n",
       "            <tr>\n",
       "                        <th id=\"T_74629fa4_c8d3_11ea_9654_507b9d529891level0_row26\" class=\"row_heading level0 row26\" >HNX 30</th>\n",
       "                        <td id=\"T_74629fa4_c8d3_11ea_9654_507b9d529891row26_col0\" class=\"data row26 col0\" >Vietnam</td>\n",
       "                        <td id=\"T_74629fa4_c8d3_11ea_9654_507b9d529891row26_col1\" class=\"data row26 col1\" >219.50</td>\n",
       "                        <td id=\"T_74629fa4_c8d3_11ea_9654_507b9d529891row26_col2\" class=\"data row26 col2\" >-1.20</td>\n",
       "                        <td id=\"T_74629fa4_c8d3_11ea_9654_507b9d529891row26_col3\" class=\"data row26 col3\" >-0.54%</td>\n",
       "                        <td id=\"T_74629fa4_c8d3_11ea_9654_507b9d529891row26_col4\" class=\"data row26 col4\" >23.47%</td>\n",
       "                        <td id=\"T_74629fa4_c8d3_11ea_9654_507b9d529891row26_col5\" class=\"data row26 col5\" >-0.52%</td>\n",
       "                        <td id=\"T_74629fa4_c8d3_11ea_9654_507b9d529891row26_col6\" class=\"data row26 col6\" >23.41%</td>\n",
       "            </tr>\n",
       "            <tr>\n",
       "                        <th id=\"T_74629fa4_c8d3_11ea_9654_507b9d529891level0_row27\" class=\"row_heading level0 row27\" >MOEX</th>\n",
       "                        <td id=\"T_74629fa4_c8d3_11ea_9654_507b9d529891row27_col0\" class=\"data row27 col0\" >Russia</td>\n",
       "                        <td id=\"T_74629fa4_c8d3_11ea_9654_507b9d529891row27_col1\" class=\"data row27 col1\" >2760.01</td>\n",
       "                        <td id=\"T_74629fa4_c8d3_11ea_9654_507b9d529891row27_col2\" class=\"data row27 col2\" >-22.42</td>\n",
       "                        <td id=\"T_74629fa4_c8d3_11ea_9654_507b9d529891row27_col3\" class=\"data row27 col3\" >-0.81%</td>\n",
       "                        <td id=\"T_74629fa4_c8d3_11ea_9654_507b9d529891row27_col4\" class=\"data row27 col4\" >-10.36%</td>\n",
       "                        <td id=\"T_74629fa4_c8d3_11ea_9654_507b9d529891row27_col5\" class=\"data row27 col5\" >-0.53%</td>\n",
       "                        <td id=\"T_74629fa4_c8d3_11ea_9654_507b9d529891row27_col6\" class=\"data row27 col6\" >-21.69%</td>\n",
       "            </tr>\n",
       "            <tr>\n",
       "                        <th id=\"T_74629fa4_c8d3_11ea_9654_507b9d529891level0_row28\" class=\"row_heading level0 row28\" >IDX Composite</th>\n",
       "                        <td id=\"T_74629fa4_c8d3_11ea_9654_507b9d529891row28_col0\" class=\"data row28 col0\" >Indonesia</td>\n",
       "                        <td id=\"T_74629fa4_c8d3_11ea_9654_507b9d529891row28_col1\" class=\"data row28 col1\" >5098.37</td>\n",
       "                        <td id=\"T_74629fa4_c8d3_11ea_9654_507b9d529891row28_col2\" class=\"data row28 col2\" >45.58</td>\n",
       "                        <td id=\"T_74629fa4_c8d3_11ea_9654_507b9d529891row28_col3\" class=\"data row28 col3\" >0.90%</td>\n",
       "                        <td id=\"T_74629fa4_c8d3_11ea_9654_507b9d529891row28_col4\" class=\"data row28 col4\" >-18.52%</td>\n",
       "                        <td id=\"T_74629fa4_c8d3_11ea_9654_507b9d529891row28_col5\" class=\"data row28 col5\" >-0.56%</td>\n",
       "                        <td id=\"T_74629fa4_c8d3_11ea_9654_507b9d529891row28_col6\" class=\"data row28 col6\" >-22.03%</td>\n",
       "            </tr>\n",
       "            <tr>\n",
       "                        <th id=\"T_74629fa4_c8d3_11ea_9654_507b9d529891level0_row29\" class=\"row_heading level0 row29\" >PSEi Composite</th>\n",
       "                        <td id=\"T_74629fa4_c8d3_11ea_9654_507b9d529891row29_col0\" class=\"data row29 col0\" >Philippines</td>\n",
       "                        <td id=\"T_74629fa4_c8d3_11ea_9654_507b9d529891row29_col1\" class=\"data row29 col1\" >6147.66</td>\n",
       "                        <td id=\"T_74629fa4_c8d3_11ea_9654_507b9d529891row29_col2\" class=\"data row29 col2\" >-44.92</td>\n",
       "                        <td id=\"T_74629fa4_c8d3_11ea_9654_507b9d529891row29_col3\" class=\"data row29 col3\" >-0.73%</td>\n",
       "                        <td id=\"T_74629fa4_c8d3_11ea_9654_507b9d529891row29_col4\" class=\"data row29 col4\" >-21.16%</td>\n",
       "                        <td id=\"T_74629fa4_c8d3_11ea_9654_507b9d529891row29_col5\" class=\"data row29 col5\" >-0.63%</td>\n",
       "                        <td id=\"T_74629fa4_c8d3_11ea_9654_507b9d529891row29_col6\" class=\"data row29 col6\" >-18.67%</td>\n",
       "            </tr>\n",
       "            <tr>\n",
       "                        <th id=\"T_74629fa4_c8d3_11ea_9654_507b9d529891level0_row30\" class=\"row_heading level0 row30\" >Nasdaq</th>\n",
       "                        <td id=\"T_74629fa4_c8d3_11ea_9654_507b9d529891row30_col0\" class=\"data row30 col0\" >United States</td>\n",
       "                        <td id=\"T_74629fa4_c8d3_11ea_9654_507b9d529891row30_col1\" class=\"data row30 col1\" >10473.83</td>\n",
       "                        <td id=\"T_74629fa4_c8d3_11ea_9654_507b9d529891row30_col2\" class=\"data row30 col2\" >-73.92</td>\n",
       "                        <td id=\"T_74629fa4_c8d3_11ea_9654_507b9d529891row30_col3\" class=\"data row30 col3\" >-0.70%</td>\n",
       "                        <td id=\"T_74629fa4_c8d3_11ea_9654_507b9d529891row30_col4\" class=\"data row30 col4\" >15.46%</td>\n",
       "                        <td id=\"T_74629fa4_c8d3_11ea_9654_507b9d529891row30_col5\" class=\"data row30 col5\" >-0.70%</td>\n",
       "                        <td id=\"T_74629fa4_c8d3_11ea_9654_507b9d529891row30_col6\" class=\"data row30 col6\" >15.46%</td>\n",
       "            </tr>\n",
       "            <tr>\n",
       "                        <th id=\"T_74629fa4_c8d3_11ea_9654_507b9d529891level0_row31\" class=\"row_heading level0 row31\" >Taiwan Weighted</th>\n",
       "                        <td id=\"T_74629fa4_c8d3_11ea_9654_507b9d529891row31_col0\" class=\"data row31 col0\" >Taiwan</td>\n",
       "                        <td id=\"T_74629fa4_c8d3_11ea_9654_507b9d529891row31_col1\" class=\"data row31 col1\" >12157.74</td>\n",
       "                        <td id=\"T_74629fa4_c8d3_11ea_9654_507b9d529891row31_col2\" class=\"data row31 col2\" >-34.95</td>\n",
       "                        <td id=\"T_74629fa4_c8d3_11ea_9654_507b9d529891row31_col3\" class=\"data row31 col3\" >-0.29%</td>\n",
       "                        <td id=\"T_74629fa4_c8d3_11ea_9654_507b9d529891row31_col4\" class=\"data row31 col4\" >1.71%</td>\n",
       "                        <td id=\"T_74629fa4_c8d3_11ea_9654_507b9d529891row31_col5\" class=\"data row31 col5\" >-0.75%</td>\n",
       "                        <td id=\"T_74629fa4_c8d3_11ea_9654_507b9d529891row31_col6\" class=\"data row31 col6\" >3.64%</td>\n",
       "            </tr>\n",
       "            <tr>\n",
       "                        <th id=\"T_74629fa4_c8d3_11ea_9654_507b9d529891level0_row32\" class=\"row_heading level0 row32\" >FTSE Singapore</th>\n",
       "                        <td id=\"T_74629fa4_c8d3_11ea_9654_507b9d529891row32_col0\" class=\"data row32 col0\" >Singapore</td>\n",
       "                        <td id=\"T_74629fa4_c8d3_11ea_9654_507b9d529891row32_col1\" class=\"data row32 col1\" >277.70</td>\n",
       "                        <td id=\"T_74629fa4_c8d3_11ea_9654_507b9d529891row32_col2\" class=\"data row32 col2\" >-2.78</td>\n",
       "                        <td id=\"T_74629fa4_c8d3_11ea_9654_507b9d529891row32_col3\" class=\"data row32 col3\" >-0.99%</td>\n",
       "                        <td id=\"T_74629fa4_c8d3_11ea_9654_507b9d529891row32_col4\" class=\"data row32 col4\" >-17.33%</td>\n",
       "                        <td id=\"T_74629fa4_c8d3_11ea_9654_507b9d529891row32_col5\" class=\"data row32 col5\" >-0.88%</td>\n",
       "                        <td id=\"T_74629fa4_c8d3_11ea_9654_507b9d529891row32_col6\" class=\"data row32 col6\" >-19.68%</td>\n",
       "            </tr>\n",
       "            <tr>\n",
       "                        <th id=\"T_74629fa4_c8d3_11ea_9654_507b9d529891level0_row33\" class=\"row_heading level0 row33\" >Nifty 50</th>\n",
       "                        <td id=\"T_74629fa4_c8d3_11ea_9654_507b9d529891row33_col0\" class=\"data row33 col0\" >India</td>\n",
       "                        <td id=\"T_74629fa4_c8d3_11ea_9654_507b9d529891row33_col1\" class=\"data row33 col1\" >10739.95</td>\n",
       "                        <td id=\"T_74629fa4_c8d3_11ea_9654_507b9d529891row33_col2\" class=\"data row33 col2\" >-73.50</td>\n",
       "                        <td id=\"T_74629fa4_c8d3_11ea_9654_507b9d529891row33_col3\" class=\"data row33 col3\" >-0.68%</td>\n",
       "                        <td id=\"T_74629fa4_c8d3_11ea_9654_507b9d529891row33_col4\" class=\"data row33 col4\" >-10.45%</td>\n",
       "                        <td id=\"T_74629fa4_c8d3_11ea_9654_507b9d529891row33_col5\" class=\"data row33 col5\" >-0.92%</td>\n",
       "                        <td id=\"T_74629fa4_c8d3_11ea_9654_507b9d529891row33_col6\" class=\"data row33 col6\" >-14.49%</td>\n",
       "            </tr>\n",
       "            <tr>\n",
       "                        <th id=\"T_74629fa4_c8d3_11ea_9654_507b9d529891level0_row34\" class=\"row_heading level0 row34\" >BSE Sensex</th>\n",
       "                        <td id=\"T_74629fa4_c8d3_11ea_9654_507b9d529891row34_col0\" class=\"data row34 col0\" >India</td>\n",
       "                        <td id=\"T_74629fa4_c8d3_11ea_9654_507b9d529891row34_col1\" class=\"data row34 col1\" >36471.68</td>\n",
       "                        <td id=\"T_74629fa4_c8d3_11ea_9654_507b9d529891row34_col2\" class=\"data row34 col2\" >-266.01</td>\n",
       "                        <td id=\"T_74629fa4_c8d3_11ea_9654_507b9d529891row34_col3\" class=\"data row34 col3\" >-0.72%</td>\n",
       "                        <td id=\"T_74629fa4_c8d3_11ea_9654_507b9d529891row34_col4\" class=\"data row34 col4\" >-10.34%</td>\n",
       "                        <td id=\"T_74629fa4_c8d3_11ea_9654_507b9d529891row34_col5\" class=\"data row34 col5\" >-0.97%</td>\n",
       "                        <td id=\"T_74629fa4_c8d3_11ea_9654_507b9d529891row34_col6\" class=\"data row34 col6\" >-14.39%</td>\n",
       "            </tr>\n",
       "            <tr>\n",
       "                        <th id=\"T_74629fa4_c8d3_11ea_9654_507b9d529891level0_row35\" class=\"row_heading level0 row35\" >SET</th>\n",
       "                        <td id=\"T_74629fa4_c8d3_11ea_9654_507b9d529891row35_col0\" class=\"data row35 col0\" >Thailand</td>\n",
       "                        <td id=\"T_74629fa4_c8d3_11ea_9654_507b9d529891row35_col1\" class=\"data row35 col1\" >1347.86</td>\n",
       "                        <td id=\"T_74629fa4_c8d3_11ea_9654_507b9d529891row35_col2\" class=\"data row35 col2\" >-17.95</td>\n",
       "                        <td id=\"T_74629fa4_c8d3_11ea_9654_507b9d529891row35_col3\" class=\"data row35 col3\" >-1.31%</td>\n",
       "                        <td id=\"T_74629fa4_c8d3_11ea_9654_507b9d529891row35_col4\" class=\"data row35 col4\" >-14.07%</td>\n",
       "                        <td id=\"T_74629fa4_c8d3_11ea_9654_507b9d529891row35_col5\" class=\"data row35 col5\" >-2.44%</td>\n",
       "                        <td id=\"T_74629fa4_c8d3_11ea_9654_507b9d529891row35_col6\" class=\"data row35 col6\" >-17.84%</td>\n",
       "            </tr>\n",
       "            <tr>\n",
       "                        <th id=\"T_74629fa4_c8d3_11ea_9654_507b9d529891level0_row36\" class=\"row_heading level0 row36\" >Hang Seng</th>\n",
       "                        <td id=\"T_74629fa4_c8d3_11ea_9654_507b9d529891row36_col0\" class=\"data row36 col0\" >Hong Kong</td>\n",
       "                        <td id=\"T_74629fa4_c8d3_11ea_9654_507b9d529891row36_col1\" class=\"data row36 col1\" >24970.69</td>\n",
       "                        <td id=\"T_74629fa4_c8d3_11ea_9654_507b9d529891row36_col2\" class=\"data row36 col2\" >-1239.47</td>\n",
       "                        <td id=\"T_74629fa4_c8d3_11ea_9654_507b9d529891row36_col3\" class=\"data row36 col3\" >-4.73%</td>\n",
       "                        <td id=\"T_74629fa4_c8d3_11ea_9654_507b9d529891row36_col4\" class=\"data row36 col4\" >-11.53%</td>\n",
       "                        <td id=\"T_74629fa4_c8d3_11ea_9654_507b9d529891row36_col5\" class=\"data row36 col5\" >-4.75%</td>\n",
       "                        <td id=\"T_74629fa4_c8d3_11ea_9654_507b9d529891row36_col6\" class=\"data row36 col6\" >-11.20%</td>\n",
       "            </tr>\n",
       "            <tr>\n",
       "                        <th id=\"T_74629fa4_c8d3_11ea_9654_507b9d529891level0_row37\" class=\"row_heading level0 row37\" >SZSE Component</th>\n",
       "                        <td id=\"T_74629fa4_c8d3_11ea_9654_507b9d529891row37_col0\" class=\"data row37 col0\" >China</td>\n",
       "                        <td id=\"T_74629fa4_c8d3_11ea_9654_507b9d529891row37_col1\" class=\"data row37 col1\" >12996.34</td>\n",
       "                        <td id=\"T_74629fa4_c8d3_11ea_9654_507b9d529891row37_col2\" class=\"data row37 col2\" >-758.40</td>\n",
       "                        <td id=\"T_74629fa4_c8d3_11ea_9654_507b9d529891row37_col3\" class=\"data row37 col3\" >-5.51%</td>\n",
       "                        <td id=\"T_74629fa4_c8d3_11ea_9654_507b9d529891row37_col4\" class=\"data row37 col4\" >21.48%</td>\n",
       "                        <td id=\"T_74629fa4_c8d3_11ea_9654_507b9d529891row37_col5\" class=\"data row37 col5\" >-5.30%</td>\n",
       "                        <td id=\"T_74629fa4_c8d3_11ea_9654_507b9d529891row37_col6\" class=\"data row37 col6\" >21.08%</td>\n",
       "            </tr>\n",
       "            <tr>\n",
       "                        <th id=\"T_74629fa4_c8d3_11ea_9654_507b9d529891level0_row38\" class=\"row_heading level0 row38\" >China A50</th>\n",
       "                        <td id=\"T_74629fa4_c8d3_11ea_9654_507b9d529891row38_col0\" class=\"data row38 col0\" >China</td>\n",
       "                        <td id=\"T_74629fa4_c8d3_11ea_9654_507b9d529891row38_col1\" class=\"data row38 col1\" >14981.39</td>\n",
       "                        <td id=\"T_74629fa4_c8d3_11ea_9654_507b9d529891row38_col2\" class=\"data row38 col2\" >-1248.90</td>\n",
       "                        <td id=\"T_74629fa4_c8d3_11ea_9654_507b9d529891row38_col3\" class=\"data row38 col3\" >-7.69%</td>\n",
       "                        <td id=\"T_74629fa4_c8d3_11ea_9654_507b9d529891row38_col4\" class=\"data row38 col4\" >4.47%</td>\n",
       "                        <td id=\"T_74629fa4_c8d3_11ea_9654_507b9d529891row38_col5\" class=\"data row38 col5\" >-7.49%</td>\n",
       "                        <td id=\"T_74629fa4_c8d3_11ea_9654_507b9d529891row38_col6\" class=\"data row38 col6\" >4.12%</td>\n",
       "            </tr>\n",
       "    </tbody></table>"
      ],
      "text/plain": [
       "<pandas.io.formats.style.Styler at 0x28664904400>"
      ]
     },
     "execution_count": 5,
     "metadata": {},
     "output_type": "execute_result"
    }
   ],
   "source": [
    "hmap"
   ]
  },
  {
   "cell_type": "code",
   "execution_count": 13,
   "metadata": {},
   "outputs": [
    {
     "data": {
      "application/vnd.plotly.v1+json": {
       "config": {
        "plotlyServerURL": "https://plotly.com"
       },
       "data": [
        {
         "alignmentgroup": "True",
         "hovertemplate": "Index: %{x} <br>Country: %{text} <br>Return: %{y:.2f}%",
         "legendgroup": "",
         "marker": {
          "color": [
           5.07658531944517,
           4.906642266891592,
           4.049337262435615,
           3.9967794962771697,
           3.9047722645727756,
           3.796153513054401,
           3.1392086441007994,
           3.006556904371238,
           2.9750829900279774,
           2.677876331902196,
           2.215539144986489,
           2.015196459447033,
           1.8523762708094305,
           1.641398157905427,
           1.41601122455286,
           1.359618989464817,
           1.2202816753448031,
           1.0466193189683892,
           0.9446590445711056,
           0.8375317001263038,
           0.6725470604003858,
           0.31338569630672275,
           0.13658155577682685,
           0.02254710836189222,
           -0.42510239795126026,
           -0.4537808844312208,
           -0.522271594417989,
           -0.5266477141955495,
           -0.5642123286908496,
           -0.6251103126549085,
           -0.7008129695906695,
           -0.7494078972993035,
           -0.8821194014777656,
           -0.9242936281764424,
           -0.9685545734032242,
           -2.441002679858717,
           -4.75452639033036,
           -5.301446475699523,
           -7.487483113107974
          ],
          "coloraxis": "coloraxis"
         },
         "name": "",
         "offsetgroup": "",
         "orientation": "v",
         "showlegend": false,
         "text": [
          "Italy",
          "United States",
          "France",
          "Spain",
          "Germany",
          "Germany",
          "United Kingdom",
          "Canada",
          "Denmark",
          "Turkey",
          "Switzerland",
          "United States",
          "Netherlands",
          "South Africa",
          "Japan",
          "Colombia",
          "Australia",
          "Peru",
          "Brazil",
          "Chile",
          "Mexico",
          "New Zealand",
          "Saudi Arabia",
          "South Korea",
          "South Korea",
          "Malaysia",
          "Vietnam",
          "Russia",
          "Indonesia",
          "Philippines",
          "United States",
          "Taiwan",
          "Singapore",
          "India",
          "India",
          "Thailand",
          "Hong Kong",
          "China",
          "China"
         ],
         "textposition": "auto",
         "type": "bar",
         "x": [
          "FTSE MIB",
          "SmallCap 2000",
          "CAC 40",
          "IBEX 35",
          "Euro Stoxx 50",
          "DAX",
          "FTSE 100",
          "S&P/TSX",
          "OMXC25",
          "BIST 100",
          "SMI",
          "S&P 500",
          "AEX",
          "FTSE/JSE Top 40",
          "Nikkei 225",
          "COLCAP",
          "S&P/ASX 200",
          "S&P Lima General",
          "Bovespa",
          "S&P CLX IPSA",
          "S&P/BMV IPC",
          "NZX 50",
          "Tadawul All Share",
          "KOSPI",
          "KOSDAQ",
          "KLCI",
          "HNX 30",
          "MOEX",
          "IDX Composite",
          "PSEi Composite",
          "Nasdaq",
          "Taiwan Weighted",
          "FTSE Singapore",
          "Nifty 50",
          "BSE Sensex",
          "SET",
          "Hang Seng",
          "SZSE Component",
          "China A50"
         ],
         "xaxis": "x",
         "y": [
          5.07658531944517,
          4.906642266891592,
          4.049337262435615,
          3.9967794962771697,
          3.9047722645727756,
          3.796153513054401,
          3.1392086441007994,
          3.006556904371238,
          2.9750829900279774,
          2.677876331902196,
          2.215539144986489,
          2.015196459447033,
          1.8523762708094305,
          1.641398157905427,
          1.41601122455286,
          1.359618989464817,
          1.2202816753448031,
          1.0466193189683892,
          0.9446590445711056,
          0.8375317001263038,
          0.6725470604003858,
          0.31338569630672275,
          0.13658155577682685,
          0.02254710836189222,
          -0.42510239795126026,
          -0.4537808844312208,
          -0.522271594417989,
          -0.5266477141955495,
          -0.5642123286908496,
          -0.6251103126549085,
          -0.7008129695906695,
          -0.7494078972993035,
          -0.8821194014777656,
          -0.9242936281764424,
          -0.9685545734032242,
          -2.441002679858717,
          -4.75452639033036,
          -5.301446475699523,
          -7.487483113107974
         ],
         "yaxis": "y"
        }
       ],
       "layout": {
        "barmode": "relative",
        "coloraxis": {
         "colorbar": {
          "title": {
           "text": "color"
          }
         },
         "colorscale": [
          [
           0,
           "#0d0887"
          ],
          [
           0.1111111111111111,
           "#46039f"
          ],
          [
           0.2222222222222222,
           "#7201a8"
          ],
          [
           0.3333333333333333,
           "#9c179e"
          ],
          [
           0.4444444444444444,
           "#bd3786"
          ],
          [
           0.5555555555555556,
           "#d8576b"
          ],
          [
           0.6666666666666666,
           "#ed7953"
          ],
          [
           0.7777777777777778,
           "#fb9f3a"
          ],
          [
           0.8888888888888888,
           "#fdca26"
          ],
          [
           1,
           "#f0f921"
          ]
         ]
        },
        "font": {
         "color": "#7f7f7f",
         "family": "Segoe UI, monospace",
         "size": 13
        },
        "legend": {
         "title": {
          "text": "Return(%)"
         },
         "tracegroupgap": 0
        },
        "margin": {
         "t": 60
        },
        "plot_bgcolor": "White",
        "template": {
         "data": {
          "bar": [
           {
            "error_x": {
             "color": "#2a3f5f"
            },
            "error_y": {
             "color": "#2a3f5f"
            },
            "marker": {
             "line": {
              "color": "#E5ECF6",
              "width": 0.5
             }
            },
            "type": "bar"
           }
          ],
          "barpolar": [
           {
            "marker": {
             "line": {
              "color": "#E5ECF6",
              "width": 0.5
             }
            },
            "type": "barpolar"
           }
          ],
          "carpet": [
           {
            "aaxis": {
             "endlinecolor": "#2a3f5f",
             "gridcolor": "white",
             "linecolor": "white",
             "minorgridcolor": "white",
             "startlinecolor": "#2a3f5f"
            },
            "baxis": {
             "endlinecolor": "#2a3f5f",
             "gridcolor": "white",
             "linecolor": "white",
             "minorgridcolor": "white",
             "startlinecolor": "#2a3f5f"
            },
            "type": "carpet"
           }
          ],
          "choropleth": [
           {
            "colorbar": {
             "outlinewidth": 0,
             "ticks": ""
            },
            "type": "choropleth"
           }
          ],
          "contour": [
           {
            "colorbar": {
             "outlinewidth": 0,
             "ticks": ""
            },
            "colorscale": [
             [
              0,
              "#0d0887"
             ],
             [
              0.1111111111111111,
              "#46039f"
             ],
             [
              0.2222222222222222,
              "#7201a8"
             ],
             [
              0.3333333333333333,
              "#9c179e"
             ],
             [
              0.4444444444444444,
              "#bd3786"
             ],
             [
              0.5555555555555556,
              "#d8576b"
             ],
             [
              0.6666666666666666,
              "#ed7953"
             ],
             [
              0.7777777777777778,
              "#fb9f3a"
             ],
             [
              0.8888888888888888,
              "#fdca26"
             ],
             [
              1,
              "#f0f921"
             ]
            ],
            "type": "contour"
           }
          ],
          "contourcarpet": [
           {
            "colorbar": {
             "outlinewidth": 0,
             "ticks": ""
            },
            "type": "contourcarpet"
           }
          ],
          "heatmap": [
           {
            "colorbar": {
             "outlinewidth": 0,
             "ticks": ""
            },
            "colorscale": [
             [
              0,
              "#0d0887"
             ],
             [
              0.1111111111111111,
              "#46039f"
             ],
             [
              0.2222222222222222,
              "#7201a8"
             ],
             [
              0.3333333333333333,
              "#9c179e"
             ],
             [
              0.4444444444444444,
              "#bd3786"
             ],
             [
              0.5555555555555556,
              "#d8576b"
             ],
             [
              0.6666666666666666,
              "#ed7953"
             ],
             [
              0.7777777777777778,
              "#fb9f3a"
             ],
             [
              0.8888888888888888,
              "#fdca26"
             ],
             [
              1,
              "#f0f921"
             ]
            ],
            "type": "heatmap"
           }
          ],
          "heatmapgl": [
           {
            "colorbar": {
             "outlinewidth": 0,
             "ticks": ""
            },
            "colorscale": [
             [
              0,
              "#0d0887"
             ],
             [
              0.1111111111111111,
              "#46039f"
             ],
             [
              0.2222222222222222,
              "#7201a8"
             ],
             [
              0.3333333333333333,
              "#9c179e"
             ],
             [
              0.4444444444444444,
              "#bd3786"
             ],
             [
              0.5555555555555556,
              "#d8576b"
             ],
             [
              0.6666666666666666,
              "#ed7953"
             ],
             [
              0.7777777777777778,
              "#fb9f3a"
             ],
             [
              0.8888888888888888,
              "#fdca26"
             ],
             [
              1,
              "#f0f921"
             ]
            ],
            "type": "heatmapgl"
           }
          ],
          "histogram": [
           {
            "marker": {
             "colorbar": {
              "outlinewidth": 0,
              "ticks": ""
             }
            },
            "type": "histogram"
           }
          ],
          "histogram2d": [
           {
            "colorbar": {
             "outlinewidth": 0,
             "ticks": ""
            },
            "colorscale": [
             [
              0,
              "#0d0887"
             ],
             [
              0.1111111111111111,
              "#46039f"
             ],
             [
              0.2222222222222222,
              "#7201a8"
             ],
             [
              0.3333333333333333,
              "#9c179e"
             ],
             [
              0.4444444444444444,
              "#bd3786"
             ],
             [
              0.5555555555555556,
              "#d8576b"
             ],
             [
              0.6666666666666666,
              "#ed7953"
             ],
             [
              0.7777777777777778,
              "#fb9f3a"
             ],
             [
              0.8888888888888888,
              "#fdca26"
             ],
             [
              1,
              "#f0f921"
             ]
            ],
            "type": "histogram2d"
           }
          ],
          "histogram2dcontour": [
           {
            "colorbar": {
             "outlinewidth": 0,
             "ticks": ""
            },
            "colorscale": [
             [
              0,
              "#0d0887"
             ],
             [
              0.1111111111111111,
              "#46039f"
             ],
             [
              0.2222222222222222,
              "#7201a8"
             ],
             [
              0.3333333333333333,
              "#9c179e"
             ],
             [
              0.4444444444444444,
              "#bd3786"
             ],
             [
              0.5555555555555556,
              "#d8576b"
             ],
             [
              0.6666666666666666,
              "#ed7953"
             ],
             [
              0.7777777777777778,
              "#fb9f3a"
             ],
             [
              0.8888888888888888,
              "#fdca26"
             ],
             [
              1,
              "#f0f921"
             ]
            ],
            "type": "histogram2dcontour"
           }
          ],
          "mesh3d": [
           {
            "colorbar": {
             "outlinewidth": 0,
             "ticks": ""
            },
            "type": "mesh3d"
           }
          ],
          "parcoords": [
           {
            "line": {
             "colorbar": {
              "outlinewidth": 0,
              "ticks": ""
             }
            },
            "type": "parcoords"
           }
          ],
          "pie": [
           {
            "automargin": true,
            "type": "pie"
           }
          ],
          "scatter": [
           {
            "marker": {
             "colorbar": {
              "outlinewidth": 0,
              "ticks": ""
             }
            },
            "type": "scatter"
           }
          ],
          "scatter3d": [
           {
            "line": {
             "colorbar": {
              "outlinewidth": 0,
              "ticks": ""
             }
            },
            "marker": {
             "colorbar": {
              "outlinewidth": 0,
              "ticks": ""
             }
            },
            "type": "scatter3d"
           }
          ],
          "scattercarpet": [
           {
            "marker": {
             "colorbar": {
              "outlinewidth": 0,
              "ticks": ""
             }
            },
            "type": "scattercarpet"
           }
          ],
          "scattergeo": [
           {
            "marker": {
             "colorbar": {
              "outlinewidth": 0,
              "ticks": ""
             }
            },
            "type": "scattergeo"
           }
          ],
          "scattergl": [
           {
            "marker": {
             "colorbar": {
              "outlinewidth": 0,
              "ticks": ""
             }
            },
            "type": "scattergl"
           }
          ],
          "scattermapbox": [
           {
            "marker": {
             "colorbar": {
              "outlinewidth": 0,
              "ticks": ""
             }
            },
            "type": "scattermapbox"
           }
          ],
          "scatterpolar": [
           {
            "marker": {
             "colorbar": {
              "outlinewidth": 0,
              "ticks": ""
             }
            },
            "type": "scatterpolar"
           }
          ],
          "scatterpolargl": [
           {
            "marker": {
             "colorbar": {
              "outlinewidth": 0,
              "ticks": ""
             }
            },
            "type": "scatterpolargl"
           }
          ],
          "scatterternary": [
           {
            "marker": {
             "colorbar": {
              "outlinewidth": 0,
              "ticks": ""
             }
            },
            "type": "scatterternary"
           }
          ],
          "surface": [
           {
            "colorbar": {
             "outlinewidth": 0,
             "ticks": ""
            },
            "colorscale": [
             [
              0,
              "#0d0887"
             ],
             [
              0.1111111111111111,
              "#46039f"
             ],
             [
              0.2222222222222222,
              "#7201a8"
             ],
             [
              0.3333333333333333,
              "#9c179e"
             ],
             [
              0.4444444444444444,
              "#bd3786"
             ],
             [
              0.5555555555555556,
              "#d8576b"
             ],
             [
              0.6666666666666666,
              "#ed7953"
             ],
             [
              0.7777777777777778,
              "#fb9f3a"
             ],
             [
              0.8888888888888888,
              "#fdca26"
             ],
             [
              1,
              "#f0f921"
             ]
            ],
            "type": "surface"
           }
          ],
          "table": [
           {
            "cells": {
             "fill": {
              "color": "#EBF0F8"
             },
             "line": {
              "color": "white"
             }
            },
            "header": {
             "fill": {
              "color": "#C8D4E3"
             },
             "line": {
              "color": "white"
             }
            },
            "type": "table"
           }
          ]
         },
         "layout": {
          "annotationdefaults": {
           "arrowcolor": "#2a3f5f",
           "arrowhead": 0,
           "arrowwidth": 1
          },
          "coloraxis": {
           "colorbar": {
            "outlinewidth": 0,
            "ticks": ""
           }
          },
          "colorscale": {
           "diverging": [
            [
             0,
             "#8e0152"
            ],
            [
             0.1,
             "#c51b7d"
            ],
            [
             0.2,
             "#de77ae"
            ],
            [
             0.3,
             "#f1b6da"
            ],
            [
             0.4,
             "#fde0ef"
            ],
            [
             0.5,
             "#f7f7f7"
            ],
            [
             0.6,
             "#e6f5d0"
            ],
            [
             0.7,
             "#b8e186"
            ],
            [
             0.8,
             "#7fbc41"
            ],
            [
             0.9,
             "#4d9221"
            ],
            [
             1,
             "#276419"
            ]
           ],
           "sequential": [
            [
             0,
             "#0d0887"
            ],
            [
             0.1111111111111111,
             "#46039f"
            ],
            [
             0.2222222222222222,
             "#7201a8"
            ],
            [
             0.3333333333333333,
             "#9c179e"
            ],
            [
             0.4444444444444444,
             "#bd3786"
            ],
            [
             0.5555555555555556,
             "#d8576b"
            ],
            [
             0.6666666666666666,
             "#ed7953"
            ],
            [
             0.7777777777777778,
             "#fb9f3a"
            ],
            [
             0.8888888888888888,
             "#fdca26"
            ],
            [
             1,
             "#f0f921"
            ]
           ],
           "sequentialminus": [
            [
             0,
             "#0d0887"
            ],
            [
             0.1111111111111111,
             "#46039f"
            ],
            [
             0.2222222222222222,
             "#7201a8"
            ],
            [
             0.3333333333333333,
             "#9c179e"
            ],
            [
             0.4444444444444444,
             "#bd3786"
            ],
            [
             0.5555555555555556,
             "#d8576b"
            ],
            [
             0.6666666666666666,
             "#ed7953"
            ],
            [
             0.7777777777777778,
             "#fb9f3a"
            ],
            [
             0.8888888888888888,
             "#fdca26"
            ],
            [
             1,
             "#f0f921"
            ]
           ]
          },
          "colorway": [
           "#636efa",
           "#EF553B",
           "#00cc96",
           "#ab63fa",
           "#FFA15A",
           "#19d3f3",
           "#FF6692",
           "#B6E880",
           "#FF97FF",
           "#FECB52"
          ],
          "font": {
           "color": "#2a3f5f"
          },
          "geo": {
           "bgcolor": "white",
           "lakecolor": "white",
           "landcolor": "#E5ECF6",
           "showlakes": true,
           "showland": true,
           "subunitcolor": "white"
          },
          "hoverlabel": {
           "align": "left"
          },
          "hovermode": "closest",
          "mapbox": {
           "style": "light"
          },
          "paper_bgcolor": "white",
          "plot_bgcolor": "#E5ECF6",
          "polar": {
           "angularaxis": {
            "gridcolor": "white",
            "linecolor": "white",
            "ticks": ""
           },
           "bgcolor": "#E5ECF6",
           "radialaxis": {
            "gridcolor": "white",
            "linecolor": "white",
            "ticks": ""
           }
          },
          "scene": {
           "xaxis": {
            "backgroundcolor": "#E5ECF6",
            "gridcolor": "white",
            "gridwidth": 2,
            "linecolor": "white",
            "showbackground": true,
            "ticks": "",
            "zerolinecolor": "white"
           },
           "yaxis": {
            "backgroundcolor": "#E5ECF6",
            "gridcolor": "white",
            "gridwidth": 2,
            "linecolor": "white",
            "showbackground": true,
            "ticks": "",
            "zerolinecolor": "white"
           },
           "zaxis": {
            "backgroundcolor": "#E5ECF6",
            "gridcolor": "white",
            "gridwidth": 2,
            "linecolor": "white",
            "showbackground": true,
            "ticks": "",
            "zerolinecolor": "white"
           }
          },
          "shapedefaults": {
           "line": {
            "color": "#2a3f5f"
           }
          },
          "ternary": {
           "aaxis": {
            "gridcolor": "white",
            "linecolor": "white",
            "ticks": ""
           },
           "baxis": {
            "gridcolor": "white",
            "linecolor": "white",
            "ticks": ""
           },
           "bgcolor": "#E5ECF6",
           "caxis": {
            "gridcolor": "white",
            "linecolor": "white",
            "ticks": ""
           }
          },
          "title": {
           "x": 0.05
          },
          "xaxis": {
           "automargin": true,
           "gridcolor": "white",
           "linecolor": "white",
           "ticks": "",
           "title": {
            "standoff": 15
           },
           "zerolinecolor": "white",
           "zerolinewidth": 2
          },
          "yaxis": {
           "automargin": true,
           "gridcolor": "white",
           "linecolor": "white",
           "ticks": "",
           "title": {
            "standoff": 15
           },
           "zerolinecolor": "white",
           "zerolinewidth": 2
          }
         }
        },
        "title": {
         "text": "World Indices Weekly Performance (%) in US Dollar Terms (EOD)"
        },
        "xaxis": {
         "anchor": "y",
         "domain": [
          0,
          1
         ],
         "title": {
          "text": "Indices"
         }
        },
        "yaxis": {
         "anchor": "x",
         "automargin": true,
         "domain": [
          0,
          1
         ],
         "tickformat": "{:.2f}%",
         "title": {
          "text": "Return (%)"
         }
        }
       }
      },
      "text/html": [
       "<div>\n",
       "        \n",
       "        \n",
       "            <div id=\"8af42fc1-ec6d-4a1e-bf0a-a0cf1ad7be45\" class=\"plotly-graph-div\" style=\"height:525px; width:100%;\"></div>\n",
       "            <script type=\"text/javascript\">\n",
       "                require([\"plotly\"], function(Plotly) {\n",
       "                    window.PLOTLYENV=window.PLOTLYENV || {};\n",
       "                    \n",
       "                if (document.getElementById(\"8af42fc1-ec6d-4a1e-bf0a-a0cf1ad7be45\")) {\n",
       "                    Plotly.newPlot(\n",
       "                        '8af42fc1-ec6d-4a1e-bf0a-a0cf1ad7be45',\n",
       "                        [{\"alignmentgroup\": \"True\", \"hovertemplate\": \"Index: %{x} <br>Country: %{text} <br>Return: %{y:.2f}%\", \"legendgroup\": \"\", \"marker\": {\"color\": [5.07658531944517, 4.906642266891592, 4.049337262435615, 3.9967794962771697, 3.9047722645727756, 3.796153513054401, 3.1392086441007994, 3.006556904371238, 2.9750829900279774, 2.677876331902196, 2.215539144986489, 2.015196459447033, 1.8523762708094305, 1.641398157905427, 1.41601122455286, 1.359618989464817, 1.2202816753448031, 1.0466193189683892, 0.9446590445711056, 0.8375317001263038, 0.6725470604003858, 0.31338569630672275, 0.13658155577682685, 0.02254710836189222, -0.42510239795126026, -0.4537808844312208, -0.522271594417989, -0.5266477141955495, -0.5642123286908496, -0.6251103126549085, -0.7008129695906695, -0.7494078972993035, -0.8821194014777656, -0.9242936281764424, -0.9685545734032242, -2.441002679858717, -4.75452639033036, -5.301446475699523, -7.487483113107974], \"coloraxis\": \"coloraxis\"}, \"name\": \"\", \"offsetgroup\": \"\", \"orientation\": \"v\", \"showlegend\": false, \"text\": [\"Italy\", \"United States\", \"France\", \"Spain\", \"Germany\", \"Germany\", \"United Kingdom\", \"Canada\", \"Denmark\", \"Turkey\", \"Switzerland\", \"United States\", \"Netherlands\", \"South Africa\", \"Japan\", \"Colombia\", \"Australia\", \"Peru\", \"Brazil\", \"Chile\", \"Mexico\", \"New Zealand\", \"Saudi Arabia\", \"South Korea\", \"South Korea\", \"Malaysia\", \"Vietnam\", \"Russia\", \"Indonesia\", \"Philippines\", \"United States\", \"Taiwan\", \"Singapore\", \"India\", \"India\", \"Thailand\", \"Hong Kong\", \"China\", \"China\"], \"textposition\": \"auto\", \"type\": \"bar\", \"x\": [\"FTSE MIB\", \"SmallCap 2000\", \"CAC 40\", \"IBEX 35\", \"Euro Stoxx 50\", \"DAX\", \"FTSE 100\", \"S&P/TSX\", \"OMXC25\", \"BIST 100\", \"SMI\", \"S&P 500\", \"AEX\", \"FTSE/JSE Top 40\", \"Nikkei 225\", \"COLCAP\", \"S&P/ASX 200\", \"S&P Lima General\", \"Bovespa\", \"S&P CLX IPSA\", \"S&P/BMV IPC\", \"NZX 50\", \"Tadawul All Share\", \"KOSPI\", \"KOSDAQ\", \"KLCI\", \"HNX 30\", \"MOEX\", \"IDX Composite\", \"PSEi Composite\", \"Nasdaq\", \"Taiwan Weighted\", \"FTSE Singapore\", \"Nifty 50\", \"BSE Sensex\", \"SET\", \"Hang Seng\", \"SZSE Component\", \"China A50\"], \"xaxis\": \"x\", \"y\": [5.07658531944517, 4.906642266891592, 4.049337262435615, 3.9967794962771697, 3.9047722645727756, 3.796153513054401, 3.1392086441007994, 3.006556904371238, 2.9750829900279774, 2.677876331902196, 2.215539144986489, 2.015196459447033, 1.8523762708094305, 1.641398157905427, 1.41601122455286, 1.359618989464817, 1.2202816753448031, 1.0466193189683892, 0.9446590445711056, 0.8375317001263038, 0.6725470604003858, 0.31338569630672275, 0.13658155577682685, 0.02254710836189222, -0.42510239795126026, -0.4537808844312208, -0.522271594417989, -0.5266477141955495, -0.5642123286908496, -0.6251103126549085, -0.7008129695906695, -0.7494078972993035, -0.8821194014777656, -0.9242936281764424, -0.9685545734032242, -2.441002679858717, -4.75452639033036, -5.301446475699523, -7.487483113107974], \"yaxis\": \"y\"}],\n",
       "                        {\"barmode\": \"relative\", \"coloraxis\": {\"colorbar\": {\"title\": {\"text\": \"color\"}}, \"colorscale\": [[0.0, \"#0d0887\"], [0.1111111111111111, \"#46039f\"], [0.2222222222222222, \"#7201a8\"], [0.3333333333333333, \"#9c179e\"], [0.4444444444444444, \"#bd3786\"], [0.5555555555555556, \"#d8576b\"], [0.6666666666666666, \"#ed7953\"], [0.7777777777777778, \"#fb9f3a\"], [0.8888888888888888, \"#fdca26\"], [1.0, \"#f0f921\"]]}, \"font\": {\"color\": \"#7f7f7f\", \"family\": \"Segoe UI, monospace\", \"size\": 13}, \"legend\": {\"title\": {\"text\": \"Return(%)\"}, \"tracegroupgap\": 0}, \"margin\": {\"t\": 60}, \"plot_bgcolor\": \"White\", \"template\": {\"data\": {\"bar\": [{\"error_x\": {\"color\": \"#2a3f5f\"}, \"error_y\": {\"color\": \"#2a3f5f\"}, \"marker\": {\"line\": {\"color\": \"#E5ECF6\", \"width\": 0.5}}, \"type\": \"bar\"}], \"barpolar\": [{\"marker\": {\"line\": {\"color\": \"#E5ECF6\", \"width\": 0.5}}, \"type\": \"barpolar\"}], \"carpet\": [{\"aaxis\": {\"endlinecolor\": \"#2a3f5f\", \"gridcolor\": \"white\", \"linecolor\": \"white\", \"minorgridcolor\": \"white\", \"startlinecolor\": \"#2a3f5f\"}, \"baxis\": {\"endlinecolor\": \"#2a3f5f\", \"gridcolor\": \"white\", \"linecolor\": \"white\", \"minorgridcolor\": \"white\", \"startlinecolor\": \"#2a3f5f\"}, \"type\": \"carpet\"}], \"choropleth\": [{\"colorbar\": {\"outlinewidth\": 0, \"ticks\": \"\"}, \"type\": \"choropleth\"}], \"contour\": [{\"colorbar\": {\"outlinewidth\": 0, \"ticks\": \"\"}, \"colorscale\": [[0.0, \"#0d0887\"], [0.1111111111111111, \"#46039f\"], [0.2222222222222222, \"#7201a8\"], [0.3333333333333333, \"#9c179e\"], [0.4444444444444444, \"#bd3786\"], [0.5555555555555556, \"#d8576b\"], [0.6666666666666666, \"#ed7953\"], [0.7777777777777778, \"#fb9f3a\"], [0.8888888888888888, \"#fdca26\"], [1.0, \"#f0f921\"]], \"type\": \"contour\"}], \"contourcarpet\": [{\"colorbar\": {\"outlinewidth\": 0, \"ticks\": \"\"}, \"type\": \"contourcarpet\"}], \"heatmap\": [{\"colorbar\": {\"outlinewidth\": 0, \"ticks\": \"\"}, \"colorscale\": [[0.0, \"#0d0887\"], [0.1111111111111111, \"#46039f\"], [0.2222222222222222, \"#7201a8\"], [0.3333333333333333, \"#9c179e\"], [0.4444444444444444, \"#bd3786\"], [0.5555555555555556, \"#d8576b\"], [0.6666666666666666, \"#ed7953\"], [0.7777777777777778, \"#fb9f3a\"], [0.8888888888888888, \"#fdca26\"], [1.0, \"#f0f921\"]], \"type\": \"heatmap\"}], \"heatmapgl\": [{\"colorbar\": {\"outlinewidth\": 0, \"ticks\": \"\"}, \"colorscale\": [[0.0, \"#0d0887\"], [0.1111111111111111, \"#46039f\"], [0.2222222222222222, \"#7201a8\"], [0.3333333333333333, \"#9c179e\"], [0.4444444444444444, \"#bd3786\"], [0.5555555555555556, \"#d8576b\"], [0.6666666666666666, \"#ed7953\"], [0.7777777777777778, \"#fb9f3a\"], [0.8888888888888888, \"#fdca26\"], [1.0, \"#f0f921\"]], \"type\": \"heatmapgl\"}], \"histogram\": [{\"marker\": {\"colorbar\": {\"outlinewidth\": 0, \"ticks\": \"\"}}, \"type\": \"histogram\"}], \"histogram2d\": [{\"colorbar\": {\"outlinewidth\": 0, \"ticks\": \"\"}, \"colorscale\": [[0.0, \"#0d0887\"], [0.1111111111111111, \"#46039f\"], [0.2222222222222222, \"#7201a8\"], [0.3333333333333333, \"#9c179e\"], [0.4444444444444444, \"#bd3786\"], [0.5555555555555556, \"#d8576b\"], [0.6666666666666666, \"#ed7953\"], [0.7777777777777778, \"#fb9f3a\"], [0.8888888888888888, \"#fdca26\"], [1.0, \"#f0f921\"]], \"type\": \"histogram2d\"}], \"histogram2dcontour\": [{\"colorbar\": {\"outlinewidth\": 0, \"ticks\": \"\"}, \"colorscale\": [[0.0, \"#0d0887\"], [0.1111111111111111, \"#46039f\"], [0.2222222222222222, \"#7201a8\"], [0.3333333333333333, \"#9c179e\"], [0.4444444444444444, \"#bd3786\"], [0.5555555555555556, \"#d8576b\"], [0.6666666666666666, \"#ed7953\"], [0.7777777777777778, \"#fb9f3a\"], [0.8888888888888888, \"#fdca26\"], [1.0, \"#f0f921\"]], \"type\": \"histogram2dcontour\"}], \"mesh3d\": [{\"colorbar\": {\"outlinewidth\": 0, \"ticks\": \"\"}, \"type\": \"mesh3d\"}], \"parcoords\": [{\"line\": {\"colorbar\": {\"outlinewidth\": 0, \"ticks\": \"\"}}, \"type\": \"parcoords\"}], \"pie\": [{\"automargin\": true, \"type\": \"pie\"}], \"scatter\": [{\"marker\": {\"colorbar\": {\"outlinewidth\": 0, \"ticks\": \"\"}}, \"type\": \"scatter\"}], \"scatter3d\": [{\"line\": {\"colorbar\": {\"outlinewidth\": 0, \"ticks\": \"\"}}, \"marker\": {\"colorbar\": {\"outlinewidth\": 0, \"ticks\": \"\"}}, \"type\": \"scatter3d\"}], \"scattercarpet\": [{\"marker\": {\"colorbar\": {\"outlinewidth\": 0, \"ticks\": \"\"}}, \"type\": \"scattercarpet\"}], \"scattergeo\": [{\"marker\": {\"colorbar\": {\"outlinewidth\": 0, \"ticks\": \"\"}}, \"type\": \"scattergeo\"}], \"scattergl\": [{\"marker\": {\"colorbar\": {\"outlinewidth\": 0, \"ticks\": \"\"}}, \"type\": \"scattergl\"}], \"scattermapbox\": [{\"marker\": {\"colorbar\": {\"outlinewidth\": 0, \"ticks\": \"\"}}, \"type\": \"scattermapbox\"}], \"scatterpolar\": [{\"marker\": {\"colorbar\": {\"outlinewidth\": 0, \"ticks\": \"\"}}, \"type\": \"scatterpolar\"}], \"scatterpolargl\": [{\"marker\": {\"colorbar\": {\"outlinewidth\": 0, \"ticks\": \"\"}}, \"type\": \"scatterpolargl\"}], \"scatterternary\": [{\"marker\": {\"colorbar\": {\"outlinewidth\": 0, \"ticks\": \"\"}}, \"type\": \"scatterternary\"}], \"surface\": [{\"colorbar\": {\"outlinewidth\": 0, \"ticks\": \"\"}, \"colorscale\": [[0.0, \"#0d0887\"], [0.1111111111111111, \"#46039f\"], [0.2222222222222222, \"#7201a8\"], [0.3333333333333333, \"#9c179e\"], [0.4444444444444444, \"#bd3786\"], [0.5555555555555556, \"#d8576b\"], [0.6666666666666666, \"#ed7953\"], [0.7777777777777778, \"#fb9f3a\"], [0.8888888888888888, \"#fdca26\"], [1.0, \"#f0f921\"]], \"type\": \"surface\"}], \"table\": [{\"cells\": {\"fill\": {\"color\": \"#EBF0F8\"}, \"line\": {\"color\": \"white\"}}, \"header\": {\"fill\": {\"color\": \"#C8D4E3\"}, \"line\": {\"color\": \"white\"}}, \"type\": \"table\"}]}, \"layout\": {\"annotationdefaults\": {\"arrowcolor\": \"#2a3f5f\", \"arrowhead\": 0, \"arrowwidth\": 1}, \"coloraxis\": {\"colorbar\": {\"outlinewidth\": 0, \"ticks\": \"\"}}, \"colorscale\": {\"diverging\": [[0, \"#8e0152\"], [0.1, \"#c51b7d\"], [0.2, \"#de77ae\"], [0.3, \"#f1b6da\"], [0.4, \"#fde0ef\"], [0.5, \"#f7f7f7\"], [0.6, \"#e6f5d0\"], [0.7, \"#b8e186\"], [0.8, \"#7fbc41\"], [0.9, \"#4d9221\"], [1, \"#276419\"]], \"sequential\": [[0.0, \"#0d0887\"], [0.1111111111111111, \"#46039f\"], [0.2222222222222222, \"#7201a8\"], [0.3333333333333333, \"#9c179e\"], [0.4444444444444444, \"#bd3786\"], [0.5555555555555556, \"#d8576b\"], [0.6666666666666666, \"#ed7953\"], [0.7777777777777778, \"#fb9f3a\"], [0.8888888888888888, \"#fdca26\"], [1.0, \"#f0f921\"]], \"sequentialminus\": [[0.0, \"#0d0887\"], [0.1111111111111111, \"#46039f\"], [0.2222222222222222, \"#7201a8\"], [0.3333333333333333, \"#9c179e\"], [0.4444444444444444, \"#bd3786\"], [0.5555555555555556, \"#d8576b\"], [0.6666666666666666, \"#ed7953\"], [0.7777777777777778, \"#fb9f3a\"], [0.8888888888888888, \"#fdca26\"], [1.0, \"#f0f921\"]]}, \"colorway\": [\"#636efa\", \"#EF553B\", \"#00cc96\", \"#ab63fa\", \"#FFA15A\", \"#19d3f3\", \"#FF6692\", \"#B6E880\", \"#FF97FF\", \"#FECB52\"], \"font\": {\"color\": \"#2a3f5f\"}, \"geo\": {\"bgcolor\": \"white\", \"lakecolor\": \"white\", \"landcolor\": \"#E5ECF6\", \"showlakes\": true, \"showland\": true, \"subunitcolor\": \"white\"}, \"hoverlabel\": {\"align\": \"left\"}, \"hovermode\": \"closest\", \"mapbox\": {\"style\": \"light\"}, \"paper_bgcolor\": \"white\", \"plot_bgcolor\": \"#E5ECF6\", \"polar\": {\"angularaxis\": {\"gridcolor\": \"white\", \"linecolor\": \"white\", \"ticks\": \"\"}, \"bgcolor\": \"#E5ECF6\", \"radialaxis\": {\"gridcolor\": \"white\", \"linecolor\": \"white\", \"ticks\": \"\"}}, \"scene\": {\"xaxis\": {\"backgroundcolor\": \"#E5ECF6\", \"gridcolor\": \"white\", \"gridwidth\": 2, \"linecolor\": \"white\", \"showbackground\": true, \"ticks\": \"\", \"zerolinecolor\": \"white\"}, \"yaxis\": {\"backgroundcolor\": \"#E5ECF6\", \"gridcolor\": \"white\", \"gridwidth\": 2, \"linecolor\": \"white\", \"showbackground\": true, \"ticks\": \"\", \"zerolinecolor\": \"white\"}, \"zaxis\": {\"backgroundcolor\": \"#E5ECF6\", \"gridcolor\": \"white\", \"gridwidth\": 2, \"linecolor\": \"white\", \"showbackground\": true, \"ticks\": \"\", \"zerolinecolor\": \"white\"}}, \"shapedefaults\": {\"line\": {\"color\": \"#2a3f5f\"}}, \"ternary\": {\"aaxis\": {\"gridcolor\": \"white\", \"linecolor\": \"white\", \"ticks\": \"\"}, \"baxis\": {\"gridcolor\": \"white\", \"linecolor\": \"white\", \"ticks\": \"\"}, \"bgcolor\": \"#E5ECF6\", \"caxis\": {\"gridcolor\": \"white\", \"linecolor\": \"white\", \"ticks\": \"\"}}, \"title\": {\"x\": 0.05}, \"xaxis\": {\"automargin\": true, \"gridcolor\": \"white\", \"linecolor\": \"white\", \"ticks\": \"\", \"title\": {\"standoff\": 15}, \"zerolinecolor\": \"white\", \"zerolinewidth\": 2}, \"yaxis\": {\"automargin\": true, \"gridcolor\": \"white\", \"linecolor\": \"white\", \"ticks\": \"\", \"title\": {\"standoff\": 15}, \"zerolinecolor\": \"white\", \"zerolinewidth\": 2}}}, \"title\": {\"text\": \"World Indices Weekly Performance (%) in US Dollar Terms (EOD)\"}, \"xaxis\": {\"anchor\": \"y\", \"domain\": [0.0, 1.0], \"title\": {\"text\": \"Indices\"}}, \"yaxis\": {\"anchor\": \"x\", \"automargin\": true, \"domain\": [0.0, 1.0], \"tickformat\": \"{:.2f}%\", \"title\": {\"text\": \"Return (%)\"}}},\n",
       "                        {\"responsive\": true}\n",
       "                    ).then(function(){\n",
       "                            \n",
       "var gd = document.getElementById('8af42fc1-ec6d-4a1e-bf0a-a0cf1ad7be45');\n",
       "var x = new MutationObserver(function (mutations, observer) {{\n",
       "        var display = window.getComputedStyle(gd).display;\n",
       "        if (!display || display === 'none') {{\n",
       "            console.log([gd, 'removed!']);\n",
       "            Plotly.purge(gd);\n",
       "            observer.disconnect();\n",
       "        }}\n",
       "}});\n",
       "\n",
       "// Listen for the removal of the full notebook cells\n",
       "var notebookContainer = gd.closest('#notebook-container');\n",
       "if (notebookContainer) {{\n",
       "    x.observe(notebookContainer, {childList: true});\n",
       "}}\n",
       "\n",
       "// Listen for the clearing of the current output cell\n",
       "var outputEl = gd.closest('.output');\n",
       "if (outputEl) {{\n",
       "    x.observe(outputEl, {childList: true});\n",
       "}}\n",
       "\n",
       "                        })\n",
       "                };\n",
       "                });\n",
       "            </script>\n",
       "        </div>"
      ]
     },
     "metadata": {},
     "output_type": "display_data"
    }
   ],
   "source": [
    "weekly_usd = rawdata\n",
    "weekly_usd = ((pd.DataFrame(weekly_usd['$ Chg (%)']*100)).dropna().sort_values(by='$ Chg (%)', ascending=False))\n",
    "import plotly.express as px\n",
    "fig = px.bar(weekly_usd, color=weekly_usd.values, text=rawdata['Country'])\n",
    "\n",
    "fig.update_layout(title = 'World Indices Weekly Performance (%) in US Dollar Terms (EOD)',\n",
    "                   xaxis_title='Indices',\n",
    "                   yaxis_title='Return (%)', font=dict(family=\"Segoe UI, monospace\", size=13, color=\"#7f7f7f\"),\n",
    "                   legend_title_text='Return(%)', plot_bgcolor = 'White', yaxis_tickformat = '{:.2f}%')\n",
    "fig.update_traces(hovertemplate='Index: %{x} <br>Country: %{text} <br>Return: %{y:.2f}%') \n",
    "fig.update_yaxes(automargin=True)\n",
    "fig.show()"
   ]
  },
  {
   "cell_type": "code",
   "execution_count": 19,
   "metadata": {},
   "outputs": [
    {
     "data": {
      "application/vnd.plotly.v1+json": {
       "config": {
        "plotlyServerURL": "https://plotly.com"
       },
       "data": [
        {
         "alignmentgroup": "True",
         "hovertemplate": "Index: %{x} <br>Country: %{text} <br>Return: %{y:.2f}%",
         "legendgroup": "",
         "marker": {
          "color": [
           23.410244854425866,
           21.07569444228732,
           19.388472585585802,
           15.459016013942616,
           14.864411344400352,
           4.117261847049591,
           3.635174345686165,
           0.6715590034733765,
           0.32287135138915346,
           -0.911519095506641,
           -0.946005889818502,
           -1.590985037108239,
           -2.5007343214598077,
           -3.322590668263903,
           -5.218425840597607,
           -7.133131239554569,
           -8.266892708930385,
           -9.381450366723287,
           -9.925539247443737,
           -9.928111690304142,
           -11.199245678649195,
           -11.703053414465447,
           -11.76604980580307,
           -12.987791159199169,
           -13.503220511598101,
           -14.388168015810454,
           -14.494194605745282,
           -17.844402141454186,
           -18.66658456990058,
           -19.149130472940158,
           -19.678967120826442,
           -20.365601728556427,
           -20.5717514812498,
           -21.68654411181674,
           -22.030380921190297,
           -23.22315639727346,
           -30.43337452671112,
           -34.965890883585224,
           -38.151551691476996
          ],
          "coloraxis": "coloraxis"
         },
         "name": "",
         "offsetgroup": "",
         "orientation": "v",
         "showlegend": false,
         "text": [
          "Vietnam",
          "China",
          "Denmark",
          "United States",
          "South Korea",
          "China",
          "Taiwan",
          "Switzerland",
          "Germany",
          "Japan",
          "United States",
          "South Korea",
          "New Zealand",
          "Netherlands",
          "Malaysia",
          "Turkey",
          "Germany",
          "Saudi Arabia",
          "Australia",
          "Canada",
          "Hong Kong",
          "Italy",
          "United States",
          "South Africa",
          "France",
          "India",
          "India",
          "Thailand",
          "Philippines",
          "Chile",
          "Singapore",
          "Spain",
          "United Kingdom",
          "Russia",
          "Indonesia",
          "Peru",
          "Mexico",
          "Brazil",
          "Colombia"
         ],
         "textposition": "auto",
         "type": "bar",
         "x": [
          "HNX 30",
          "SZSE Component",
          "OMXC25",
          "Nasdaq",
          "KOSDAQ",
          "China A50",
          "Taiwan Weighted",
          "SMI",
          "DAX",
          "Nikkei 225",
          "S&P 500",
          "KOSPI",
          "NZX 50",
          "AEX",
          "KLCI",
          "BIST 100",
          "Euro Stoxx 50",
          "Tadawul All Share",
          "S&P/ASX 200",
          "S&P/TSX",
          "Hang Seng",
          "FTSE MIB",
          "SmallCap 2000",
          "FTSE/JSE Top 40",
          "CAC 40",
          "BSE Sensex",
          "Nifty 50",
          "SET",
          "PSEi Composite",
          "S&P CLX IPSA",
          "FTSE Singapore",
          "IBEX 35",
          "FTSE 100",
          "MOEX",
          "IDX Composite",
          "S&P Lima General",
          "S&P/BMV IPC",
          "Bovespa",
          "COLCAP"
         ],
         "xaxis": "x",
         "y": [
          23.410244854425866,
          21.07569444228732,
          19.388472585585802,
          15.459016013942616,
          14.864411344400352,
          4.117261847049591,
          3.635174345686165,
          0.6715590034733765,
          0.32287135138915346,
          -0.911519095506641,
          -0.946005889818502,
          -1.590985037108239,
          -2.5007343214598077,
          -3.322590668263903,
          -5.218425840597607,
          -7.133131239554569,
          -8.266892708930385,
          -9.381450366723287,
          -9.925539247443737,
          -9.928111690304142,
          -11.199245678649195,
          -11.703053414465447,
          -11.76604980580307,
          -12.987791159199169,
          -13.503220511598101,
          -14.388168015810454,
          -14.494194605745282,
          -17.844402141454186,
          -18.66658456990058,
          -19.149130472940158,
          -19.678967120826442,
          -20.365601728556427,
          -20.5717514812498,
          -21.68654411181674,
          -22.030380921190297,
          -23.22315639727346,
          -30.43337452671112,
          -34.965890883585224,
          -38.151551691476996
         ],
         "yaxis": "y"
        }
       ],
       "layout": {
        "barmode": "relative",
        "coloraxis": {
         "colorbar": {
          "title": {
           "text": "color"
          }
         },
         "colorscale": [
          [
           0,
           "#0d0887"
          ],
          [
           0.1111111111111111,
           "#46039f"
          ],
          [
           0.2222222222222222,
           "#7201a8"
          ],
          [
           0.3333333333333333,
           "#9c179e"
          ],
          [
           0.4444444444444444,
           "#bd3786"
          ],
          [
           0.5555555555555556,
           "#d8576b"
          ],
          [
           0.6666666666666666,
           "#ed7953"
          ],
          [
           0.7777777777777778,
           "#fb9f3a"
          ],
          [
           0.8888888888888888,
           "#fdca26"
          ],
          [
           1,
           "#f0f921"
          ]
         ]
        },
        "font": {
         "color": "#7f7f7f",
         "family": "Segoe UI, monospace",
         "size": 13
        },
        "legend": {
         "title": {
          "text": "Return(%)"
         },
         "tracegroupgap": 0
        },
        "margin": {
         "t": 60
        },
        "plot_bgcolor": "White",
        "template": {
         "data": {
          "bar": [
           {
            "error_x": {
             "color": "#2a3f5f"
            },
            "error_y": {
             "color": "#2a3f5f"
            },
            "marker": {
             "line": {
              "color": "#E5ECF6",
              "width": 0.5
             }
            },
            "type": "bar"
           }
          ],
          "barpolar": [
           {
            "marker": {
             "line": {
              "color": "#E5ECF6",
              "width": 0.5
             }
            },
            "type": "barpolar"
           }
          ],
          "carpet": [
           {
            "aaxis": {
             "endlinecolor": "#2a3f5f",
             "gridcolor": "white",
             "linecolor": "white",
             "minorgridcolor": "white",
             "startlinecolor": "#2a3f5f"
            },
            "baxis": {
             "endlinecolor": "#2a3f5f",
             "gridcolor": "white",
             "linecolor": "white",
             "minorgridcolor": "white",
             "startlinecolor": "#2a3f5f"
            },
            "type": "carpet"
           }
          ],
          "choropleth": [
           {
            "colorbar": {
             "outlinewidth": 0,
             "ticks": ""
            },
            "type": "choropleth"
           }
          ],
          "contour": [
           {
            "colorbar": {
             "outlinewidth": 0,
             "ticks": ""
            },
            "colorscale": [
             [
              0,
              "#0d0887"
             ],
             [
              0.1111111111111111,
              "#46039f"
             ],
             [
              0.2222222222222222,
              "#7201a8"
             ],
             [
              0.3333333333333333,
              "#9c179e"
             ],
             [
              0.4444444444444444,
              "#bd3786"
             ],
             [
              0.5555555555555556,
              "#d8576b"
             ],
             [
              0.6666666666666666,
              "#ed7953"
             ],
             [
              0.7777777777777778,
              "#fb9f3a"
             ],
             [
              0.8888888888888888,
              "#fdca26"
             ],
             [
              1,
              "#f0f921"
             ]
            ],
            "type": "contour"
           }
          ],
          "contourcarpet": [
           {
            "colorbar": {
             "outlinewidth": 0,
             "ticks": ""
            },
            "type": "contourcarpet"
           }
          ],
          "heatmap": [
           {
            "colorbar": {
             "outlinewidth": 0,
             "ticks": ""
            },
            "colorscale": [
             [
              0,
              "#0d0887"
             ],
             [
              0.1111111111111111,
              "#46039f"
             ],
             [
              0.2222222222222222,
              "#7201a8"
             ],
             [
              0.3333333333333333,
              "#9c179e"
             ],
             [
              0.4444444444444444,
              "#bd3786"
             ],
             [
              0.5555555555555556,
              "#d8576b"
             ],
             [
              0.6666666666666666,
              "#ed7953"
             ],
             [
              0.7777777777777778,
              "#fb9f3a"
             ],
             [
              0.8888888888888888,
              "#fdca26"
             ],
             [
              1,
              "#f0f921"
             ]
            ],
            "type": "heatmap"
           }
          ],
          "heatmapgl": [
           {
            "colorbar": {
             "outlinewidth": 0,
             "ticks": ""
            },
            "colorscale": [
             [
              0,
              "#0d0887"
             ],
             [
              0.1111111111111111,
              "#46039f"
             ],
             [
              0.2222222222222222,
              "#7201a8"
             ],
             [
              0.3333333333333333,
              "#9c179e"
             ],
             [
              0.4444444444444444,
              "#bd3786"
             ],
             [
              0.5555555555555556,
              "#d8576b"
             ],
             [
              0.6666666666666666,
              "#ed7953"
             ],
             [
              0.7777777777777778,
              "#fb9f3a"
             ],
             [
              0.8888888888888888,
              "#fdca26"
             ],
             [
              1,
              "#f0f921"
             ]
            ],
            "type": "heatmapgl"
           }
          ],
          "histogram": [
           {
            "marker": {
             "colorbar": {
              "outlinewidth": 0,
              "ticks": ""
             }
            },
            "type": "histogram"
           }
          ],
          "histogram2d": [
           {
            "colorbar": {
             "outlinewidth": 0,
             "ticks": ""
            },
            "colorscale": [
             [
              0,
              "#0d0887"
             ],
             [
              0.1111111111111111,
              "#46039f"
             ],
             [
              0.2222222222222222,
              "#7201a8"
             ],
             [
              0.3333333333333333,
              "#9c179e"
             ],
             [
              0.4444444444444444,
              "#bd3786"
             ],
             [
              0.5555555555555556,
              "#d8576b"
             ],
             [
              0.6666666666666666,
              "#ed7953"
             ],
             [
              0.7777777777777778,
              "#fb9f3a"
             ],
             [
              0.8888888888888888,
              "#fdca26"
             ],
             [
              1,
              "#f0f921"
             ]
            ],
            "type": "histogram2d"
           }
          ],
          "histogram2dcontour": [
           {
            "colorbar": {
             "outlinewidth": 0,
             "ticks": ""
            },
            "colorscale": [
             [
              0,
              "#0d0887"
             ],
             [
              0.1111111111111111,
              "#46039f"
             ],
             [
              0.2222222222222222,
              "#7201a8"
             ],
             [
              0.3333333333333333,
              "#9c179e"
             ],
             [
              0.4444444444444444,
              "#bd3786"
             ],
             [
              0.5555555555555556,
              "#d8576b"
             ],
             [
              0.6666666666666666,
              "#ed7953"
             ],
             [
              0.7777777777777778,
              "#fb9f3a"
             ],
             [
              0.8888888888888888,
              "#fdca26"
             ],
             [
              1,
              "#f0f921"
             ]
            ],
            "type": "histogram2dcontour"
           }
          ],
          "mesh3d": [
           {
            "colorbar": {
             "outlinewidth": 0,
             "ticks": ""
            },
            "type": "mesh3d"
           }
          ],
          "parcoords": [
           {
            "line": {
             "colorbar": {
              "outlinewidth": 0,
              "ticks": ""
             }
            },
            "type": "parcoords"
           }
          ],
          "pie": [
           {
            "automargin": true,
            "type": "pie"
           }
          ],
          "scatter": [
           {
            "marker": {
             "colorbar": {
              "outlinewidth": 0,
              "ticks": ""
             }
            },
            "type": "scatter"
           }
          ],
          "scatter3d": [
           {
            "line": {
             "colorbar": {
              "outlinewidth": 0,
              "ticks": ""
             }
            },
            "marker": {
             "colorbar": {
              "outlinewidth": 0,
              "ticks": ""
             }
            },
            "type": "scatter3d"
           }
          ],
          "scattercarpet": [
           {
            "marker": {
             "colorbar": {
              "outlinewidth": 0,
              "ticks": ""
             }
            },
            "type": "scattercarpet"
           }
          ],
          "scattergeo": [
           {
            "marker": {
             "colorbar": {
              "outlinewidth": 0,
              "ticks": ""
             }
            },
            "type": "scattergeo"
           }
          ],
          "scattergl": [
           {
            "marker": {
             "colorbar": {
              "outlinewidth": 0,
              "ticks": ""
             }
            },
            "type": "scattergl"
           }
          ],
          "scattermapbox": [
           {
            "marker": {
             "colorbar": {
              "outlinewidth": 0,
              "ticks": ""
             }
            },
            "type": "scattermapbox"
           }
          ],
          "scatterpolar": [
           {
            "marker": {
             "colorbar": {
              "outlinewidth": 0,
              "ticks": ""
             }
            },
            "type": "scatterpolar"
           }
          ],
          "scatterpolargl": [
           {
            "marker": {
             "colorbar": {
              "outlinewidth": 0,
              "ticks": ""
             }
            },
            "type": "scatterpolargl"
           }
          ],
          "scatterternary": [
           {
            "marker": {
             "colorbar": {
              "outlinewidth": 0,
              "ticks": ""
             }
            },
            "type": "scatterternary"
           }
          ],
          "surface": [
           {
            "colorbar": {
             "outlinewidth": 0,
             "ticks": ""
            },
            "colorscale": [
             [
              0,
              "#0d0887"
             ],
             [
              0.1111111111111111,
              "#46039f"
             ],
             [
              0.2222222222222222,
              "#7201a8"
             ],
             [
              0.3333333333333333,
              "#9c179e"
             ],
             [
              0.4444444444444444,
              "#bd3786"
             ],
             [
              0.5555555555555556,
              "#d8576b"
             ],
             [
              0.6666666666666666,
              "#ed7953"
             ],
             [
              0.7777777777777778,
              "#fb9f3a"
             ],
             [
              0.8888888888888888,
              "#fdca26"
             ],
             [
              1,
              "#f0f921"
             ]
            ],
            "type": "surface"
           }
          ],
          "table": [
           {
            "cells": {
             "fill": {
              "color": "#EBF0F8"
             },
             "line": {
              "color": "white"
             }
            },
            "header": {
             "fill": {
              "color": "#C8D4E3"
             },
             "line": {
              "color": "white"
             }
            },
            "type": "table"
           }
          ]
         },
         "layout": {
          "annotationdefaults": {
           "arrowcolor": "#2a3f5f",
           "arrowhead": 0,
           "arrowwidth": 1
          },
          "coloraxis": {
           "colorbar": {
            "outlinewidth": 0,
            "ticks": ""
           }
          },
          "colorscale": {
           "diverging": [
            [
             0,
             "#8e0152"
            ],
            [
             0.1,
             "#c51b7d"
            ],
            [
             0.2,
             "#de77ae"
            ],
            [
             0.3,
             "#f1b6da"
            ],
            [
             0.4,
             "#fde0ef"
            ],
            [
             0.5,
             "#f7f7f7"
            ],
            [
             0.6,
             "#e6f5d0"
            ],
            [
             0.7,
             "#b8e186"
            ],
            [
             0.8,
             "#7fbc41"
            ],
            [
             0.9,
             "#4d9221"
            ],
            [
             1,
             "#276419"
            ]
           ],
           "sequential": [
            [
             0,
             "#0d0887"
            ],
            [
             0.1111111111111111,
             "#46039f"
            ],
            [
             0.2222222222222222,
             "#7201a8"
            ],
            [
             0.3333333333333333,
             "#9c179e"
            ],
            [
             0.4444444444444444,
             "#bd3786"
            ],
            [
             0.5555555555555556,
             "#d8576b"
            ],
            [
             0.6666666666666666,
             "#ed7953"
            ],
            [
             0.7777777777777778,
             "#fb9f3a"
            ],
            [
             0.8888888888888888,
             "#fdca26"
            ],
            [
             1,
             "#f0f921"
            ]
           ],
           "sequentialminus": [
            [
             0,
             "#0d0887"
            ],
            [
             0.1111111111111111,
             "#46039f"
            ],
            [
             0.2222222222222222,
             "#7201a8"
            ],
            [
             0.3333333333333333,
             "#9c179e"
            ],
            [
             0.4444444444444444,
             "#bd3786"
            ],
            [
             0.5555555555555556,
             "#d8576b"
            ],
            [
             0.6666666666666666,
             "#ed7953"
            ],
            [
             0.7777777777777778,
             "#fb9f3a"
            ],
            [
             0.8888888888888888,
             "#fdca26"
            ],
            [
             1,
             "#f0f921"
            ]
           ]
          },
          "colorway": [
           "#636efa",
           "#EF553B",
           "#00cc96",
           "#ab63fa",
           "#FFA15A",
           "#19d3f3",
           "#FF6692",
           "#B6E880",
           "#FF97FF",
           "#FECB52"
          ],
          "font": {
           "color": "#2a3f5f"
          },
          "geo": {
           "bgcolor": "white",
           "lakecolor": "white",
           "landcolor": "#E5ECF6",
           "showlakes": true,
           "showland": true,
           "subunitcolor": "white"
          },
          "hoverlabel": {
           "align": "left"
          },
          "hovermode": "closest",
          "mapbox": {
           "style": "light"
          },
          "paper_bgcolor": "white",
          "plot_bgcolor": "#E5ECF6",
          "polar": {
           "angularaxis": {
            "gridcolor": "white",
            "linecolor": "white",
            "ticks": ""
           },
           "bgcolor": "#E5ECF6",
           "radialaxis": {
            "gridcolor": "white",
            "linecolor": "white",
            "ticks": ""
           }
          },
          "scene": {
           "xaxis": {
            "backgroundcolor": "#E5ECF6",
            "gridcolor": "white",
            "gridwidth": 2,
            "linecolor": "white",
            "showbackground": true,
            "ticks": "",
            "zerolinecolor": "white"
           },
           "yaxis": {
            "backgroundcolor": "#E5ECF6",
            "gridcolor": "white",
            "gridwidth": 2,
            "linecolor": "white",
            "showbackground": true,
            "ticks": "",
            "zerolinecolor": "white"
           },
           "zaxis": {
            "backgroundcolor": "#E5ECF6",
            "gridcolor": "white",
            "gridwidth": 2,
            "linecolor": "white",
            "showbackground": true,
            "ticks": "",
            "zerolinecolor": "white"
           }
          },
          "shapedefaults": {
           "line": {
            "color": "#2a3f5f"
           }
          },
          "ternary": {
           "aaxis": {
            "gridcolor": "white",
            "linecolor": "white",
            "ticks": ""
           },
           "baxis": {
            "gridcolor": "white",
            "linecolor": "white",
            "ticks": ""
           },
           "bgcolor": "#E5ECF6",
           "caxis": {
            "gridcolor": "white",
            "linecolor": "white",
            "ticks": ""
           }
          },
          "title": {
           "x": 0.05
          },
          "xaxis": {
           "automargin": true,
           "gridcolor": "white",
           "linecolor": "white",
           "ticks": "",
           "title": {
            "standoff": 15
           },
           "zerolinecolor": "white",
           "zerolinewidth": 2
          },
          "yaxis": {
           "automargin": true,
           "gridcolor": "white",
           "linecolor": "white",
           "ticks": "",
           "title": {
            "standoff": 15
           },
           "zerolinecolor": "white",
           "zerolinewidth": 2
          }
         }
        },
        "title": {
         "text": "World Indices YTD Performance (%) in US Dollar Terms (EOD)"
        },
        "xaxis": {
         "anchor": "y",
         "domain": [
          0,
          1
         ],
         "title": {
          "text": "Indices"
         }
        },
        "yaxis": {
         "anchor": "x",
         "automargin": true,
         "domain": [
          0,
          1
         ],
         "tickformat": "{:.2f}%",
         "title": {
          "text": "Return (%)"
         }
        }
       }
      },
      "text/html": [
       "<div>\n",
       "        \n",
       "        \n",
       "            <div id=\"bc4e6b23-0070-4bb5-bcab-01aafc367076\" class=\"plotly-graph-div\" style=\"height:525px; width:100%;\"></div>\n",
       "            <script type=\"text/javascript\">\n",
       "                require([\"plotly\"], function(Plotly) {\n",
       "                    window.PLOTLYENV=window.PLOTLYENV || {};\n",
       "                    \n",
       "                if (document.getElementById(\"bc4e6b23-0070-4bb5-bcab-01aafc367076\")) {\n",
       "                    Plotly.newPlot(\n",
       "                        'bc4e6b23-0070-4bb5-bcab-01aafc367076',\n",
       "                        [{\"alignmentgroup\": \"True\", \"hovertemplate\": \"Index: %{x} <br>Country: %{text} <br>Return: %{y:.2f}%\", \"legendgroup\": \"\", \"marker\": {\"color\": [23.410244854425866, 21.07569444228732, 19.388472585585802, 15.459016013942616, 14.864411344400352, 4.117261847049591, 3.635174345686165, 0.6715590034733765, 0.32287135138915346, -0.911519095506641, -0.946005889818502, -1.590985037108239, -2.5007343214598077, -3.322590668263903, -5.218425840597607, -7.133131239554569, -8.266892708930385, -9.381450366723287, -9.925539247443737, -9.928111690304142, -11.199245678649195, -11.703053414465447, -11.76604980580307, -12.987791159199169, -13.503220511598101, -14.388168015810454, -14.494194605745282, -17.844402141454186, -18.66658456990058, -19.149130472940158, -19.678967120826442, -20.365601728556427, -20.5717514812498, -21.68654411181674, -22.030380921190297, -23.22315639727346, -30.43337452671112, -34.965890883585224, -38.151551691476996], \"coloraxis\": \"coloraxis\"}, \"name\": \"\", \"offsetgroup\": \"\", \"orientation\": \"v\", \"showlegend\": false, \"text\": [\"Vietnam\", \"China\", \"Denmark\", \"United States\", \"South Korea\", \"China\", \"Taiwan\", \"Switzerland\", \"Germany\", \"Japan\", \"United States\", \"South Korea\", \"New Zealand\", \"Netherlands\", \"Malaysia\", \"Turkey\", \"Germany\", \"Saudi Arabia\", \"Australia\", \"Canada\", \"Hong Kong\", \"Italy\", \"United States\", \"South Africa\", \"France\", \"India\", \"India\", \"Thailand\", \"Philippines\", \"Chile\", \"Singapore\", \"Spain\", \"United Kingdom\", \"Russia\", \"Indonesia\", \"Peru\", \"Mexico\", \"Brazil\", \"Colombia\"], \"textposition\": \"auto\", \"type\": \"bar\", \"x\": [\"HNX 30\", \"SZSE Component\", \"OMXC25\", \"Nasdaq\", \"KOSDAQ\", \"China A50\", \"Taiwan Weighted\", \"SMI\", \"DAX\", \"Nikkei 225\", \"S&P 500\", \"KOSPI\", \"NZX 50\", \"AEX\", \"KLCI\", \"BIST 100\", \"Euro Stoxx 50\", \"Tadawul All Share\", \"S&P/ASX 200\", \"S&P/TSX\", \"Hang Seng\", \"FTSE MIB\", \"SmallCap 2000\", \"FTSE/JSE Top 40\", \"CAC 40\", \"BSE Sensex\", \"Nifty 50\", \"SET\", \"PSEi Composite\", \"S&P CLX IPSA\", \"FTSE Singapore\", \"IBEX 35\", \"FTSE 100\", \"MOEX\", \"IDX Composite\", \"S&P Lima General\", \"S&P/BMV IPC\", \"Bovespa\", \"COLCAP\"], \"xaxis\": \"x\", \"y\": [23.410244854425866, 21.07569444228732, 19.388472585585802, 15.459016013942616, 14.864411344400352, 4.117261847049591, 3.635174345686165, 0.6715590034733765, 0.32287135138915346, -0.911519095506641, -0.946005889818502, -1.590985037108239, -2.5007343214598077, -3.322590668263903, -5.218425840597607, -7.133131239554569, -8.266892708930385, -9.381450366723287, -9.925539247443737, -9.928111690304142, -11.199245678649195, -11.703053414465447, -11.76604980580307, -12.987791159199169, -13.503220511598101, -14.388168015810454, -14.494194605745282, -17.844402141454186, -18.66658456990058, -19.149130472940158, -19.678967120826442, -20.365601728556427, -20.5717514812498, -21.68654411181674, -22.030380921190297, -23.22315639727346, -30.43337452671112, -34.965890883585224, -38.151551691476996], \"yaxis\": \"y\"}],\n",
       "                        {\"barmode\": \"relative\", \"coloraxis\": {\"colorbar\": {\"title\": {\"text\": \"color\"}}, \"colorscale\": [[0.0, \"#0d0887\"], [0.1111111111111111, \"#46039f\"], [0.2222222222222222, \"#7201a8\"], [0.3333333333333333, \"#9c179e\"], [0.4444444444444444, \"#bd3786\"], [0.5555555555555556, \"#d8576b\"], [0.6666666666666666, \"#ed7953\"], [0.7777777777777778, \"#fb9f3a\"], [0.8888888888888888, \"#fdca26\"], [1.0, \"#f0f921\"]]}, \"font\": {\"color\": \"#7f7f7f\", \"family\": \"Segoe UI, monospace\", \"size\": 13}, \"legend\": {\"title\": {\"text\": \"Return(%)\"}, \"tracegroupgap\": 0}, \"margin\": {\"t\": 60}, \"plot_bgcolor\": \"White\", \"template\": {\"data\": {\"bar\": [{\"error_x\": {\"color\": \"#2a3f5f\"}, \"error_y\": {\"color\": \"#2a3f5f\"}, \"marker\": {\"line\": {\"color\": \"#E5ECF6\", \"width\": 0.5}}, \"type\": \"bar\"}], \"barpolar\": [{\"marker\": {\"line\": {\"color\": \"#E5ECF6\", \"width\": 0.5}}, \"type\": \"barpolar\"}], \"carpet\": [{\"aaxis\": {\"endlinecolor\": \"#2a3f5f\", \"gridcolor\": \"white\", \"linecolor\": \"white\", \"minorgridcolor\": \"white\", \"startlinecolor\": \"#2a3f5f\"}, \"baxis\": {\"endlinecolor\": \"#2a3f5f\", \"gridcolor\": \"white\", \"linecolor\": \"white\", \"minorgridcolor\": \"white\", \"startlinecolor\": \"#2a3f5f\"}, \"type\": \"carpet\"}], \"choropleth\": [{\"colorbar\": {\"outlinewidth\": 0, \"ticks\": \"\"}, \"type\": \"choropleth\"}], \"contour\": [{\"colorbar\": {\"outlinewidth\": 0, \"ticks\": \"\"}, \"colorscale\": [[0.0, \"#0d0887\"], [0.1111111111111111, \"#46039f\"], [0.2222222222222222, \"#7201a8\"], [0.3333333333333333, \"#9c179e\"], [0.4444444444444444, \"#bd3786\"], [0.5555555555555556, \"#d8576b\"], [0.6666666666666666, \"#ed7953\"], [0.7777777777777778, \"#fb9f3a\"], [0.8888888888888888, \"#fdca26\"], [1.0, \"#f0f921\"]], \"type\": \"contour\"}], \"contourcarpet\": [{\"colorbar\": {\"outlinewidth\": 0, \"ticks\": \"\"}, \"type\": \"contourcarpet\"}], \"heatmap\": [{\"colorbar\": {\"outlinewidth\": 0, \"ticks\": \"\"}, \"colorscale\": [[0.0, \"#0d0887\"], [0.1111111111111111, \"#46039f\"], [0.2222222222222222, \"#7201a8\"], [0.3333333333333333, \"#9c179e\"], [0.4444444444444444, \"#bd3786\"], [0.5555555555555556, \"#d8576b\"], [0.6666666666666666, \"#ed7953\"], [0.7777777777777778, \"#fb9f3a\"], [0.8888888888888888, \"#fdca26\"], [1.0, \"#f0f921\"]], \"type\": \"heatmap\"}], \"heatmapgl\": [{\"colorbar\": {\"outlinewidth\": 0, \"ticks\": \"\"}, \"colorscale\": [[0.0, \"#0d0887\"], [0.1111111111111111, \"#46039f\"], [0.2222222222222222, \"#7201a8\"], [0.3333333333333333, \"#9c179e\"], [0.4444444444444444, \"#bd3786\"], [0.5555555555555556, \"#d8576b\"], [0.6666666666666666, \"#ed7953\"], [0.7777777777777778, \"#fb9f3a\"], [0.8888888888888888, \"#fdca26\"], [1.0, \"#f0f921\"]], \"type\": \"heatmapgl\"}], \"histogram\": [{\"marker\": {\"colorbar\": {\"outlinewidth\": 0, \"ticks\": \"\"}}, \"type\": \"histogram\"}], \"histogram2d\": [{\"colorbar\": {\"outlinewidth\": 0, \"ticks\": \"\"}, \"colorscale\": [[0.0, \"#0d0887\"], [0.1111111111111111, \"#46039f\"], [0.2222222222222222, \"#7201a8\"], [0.3333333333333333, \"#9c179e\"], [0.4444444444444444, \"#bd3786\"], [0.5555555555555556, \"#d8576b\"], [0.6666666666666666, \"#ed7953\"], [0.7777777777777778, \"#fb9f3a\"], [0.8888888888888888, \"#fdca26\"], [1.0, \"#f0f921\"]], \"type\": \"histogram2d\"}], \"histogram2dcontour\": [{\"colorbar\": {\"outlinewidth\": 0, \"ticks\": \"\"}, \"colorscale\": [[0.0, \"#0d0887\"], [0.1111111111111111, \"#46039f\"], [0.2222222222222222, \"#7201a8\"], [0.3333333333333333, \"#9c179e\"], [0.4444444444444444, \"#bd3786\"], [0.5555555555555556, \"#d8576b\"], [0.6666666666666666, \"#ed7953\"], [0.7777777777777778, \"#fb9f3a\"], [0.8888888888888888, \"#fdca26\"], [1.0, \"#f0f921\"]], \"type\": \"histogram2dcontour\"}], \"mesh3d\": [{\"colorbar\": {\"outlinewidth\": 0, \"ticks\": \"\"}, \"type\": \"mesh3d\"}], \"parcoords\": [{\"line\": {\"colorbar\": {\"outlinewidth\": 0, \"ticks\": \"\"}}, \"type\": \"parcoords\"}], \"pie\": [{\"automargin\": true, \"type\": \"pie\"}], \"scatter\": [{\"marker\": {\"colorbar\": {\"outlinewidth\": 0, \"ticks\": \"\"}}, \"type\": \"scatter\"}], \"scatter3d\": [{\"line\": {\"colorbar\": {\"outlinewidth\": 0, \"ticks\": \"\"}}, \"marker\": {\"colorbar\": {\"outlinewidth\": 0, \"ticks\": \"\"}}, \"type\": \"scatter3d\"}], \"scattercarpet\": [{\"marker\": {\"colorbar\": {\"outlinewidth\": 0, \"ticks\": \"\"}}, \"type\": \"scattercarpet\"}], \"scattergeo\": [{\"marker\": {\"colorbar\": {\"outlinewidth\": 0, \"ticks\": \"\"}}, \"type\": \"scattergeo\"}], \"scattergl\": [{\"marker\": {\"colorbar\": {\"outlinewidth\": 0, \"ticks\": \"\"}}, \"type\": \"scattergl\"}], \"scattermapbox\": [{\"marker\": {\"colorbar\": {\"outlinewidth\": 0, \"ticks\": \"\"}}, \"type\": \"scattermapbox\"}], \"scatterpolar\": [{\"marker\": {\"colorbar\": {\"outlinewidth\": 0, \"ticks\": \"\"}}, \"type\": \"scatterpolar\"}], \"scatterpolargl\": [{\"marker\": {\"colorbar\": {\"outlinewidth\": 0, \"ticks\": \"\"}}, \"type\": \"scatterpolargl\"}], \"scatterternary\": [{\"marker\": {\"colorbar\": {\"outlinewidth\": 0, \"ticks\": \"\"}}, \"type\": \"scatterternary\"}], \"surface\": [{\"colorbar\": {\"outlinewidth\": 0, \"ticks\": \"\"}, \"colorscale\": [[0.0, \"#0d0887\"], [0.1111111111111111, \"#46039f\"], [0.2222222222222222, \"#7201a8\"], [0.3333333333333333, \"#9c179e\"], [0.4444444444444444, \"#bd3786\"], [0.5555555555555556, \"#d8576b\"], [0.6666666666666666, \"#ed7953\"], [0.7777777777777778, \"#fb9f3a\"], [0.8888888888888888, \"#fdca26\"], [1.0, \"#f0f921\"]], \"type\": \"surface\"}], \"table\": [{\"cells\": {\"fill\": {\"color\": \"#EBF0F8\"}, \"line\": {\"color\": \"white\"}}, \"header\": {\"fill\": {\"color\": \"#C8D4E3\"}, \"line\": {\"color\": \"white\"}}, \"type\": \"table\"}]}, \"layout\": {\"annotationdefaults\": {\"arrowcolor\": \"#2a3f5f\", \"arrowhead\": 0, \"arrowwidth\": 1}, \"coloraxis\": {\"colorbar\": {\"outlinewidth\": 0, \"ticks\": \"\"}}, \"colorscale\": {\"diverging\": [[0, \"#8e0152\"], [0.1, \"#c51b7d\"], [0.2, \"#de77ae\"], [0.3, \"#f1b6da\"], [0.4, \"#fde0ef\"], [0.5, \"#f7f7f7\"], [0.6, \"#e6f5d0\"], [0.7, \"#b8e186\"], [0.8, \"#7fbc41\"], [0.9, \"#4d9221\"], [1, \"#276419\"]], \"sequential\": [[0.0, \"#0d0887\"], [0.1111111111111111, \"#46039f\"], [0.2222222222222222, \"#7201a8\"], [0.3333333333333333, \"#9c179e\"], [0.4444444444444444, \"#bd3786\"], [0.5555555555555556, \"#d8576b\"], [0.6666666666666666, \"#ed7953\"], [0.7777777777777778, \"#fb9f3a\"], [0.8888888888888888, \"#fdca26\"], [1.0, \"#f0f921\"]], \"sequentialminus\": [[0.0, \"#0d0887\"], [0.1111111111111111, \"#46039f\"], [0.2222222222222222, \"#7201a8\"], [0.3333333333333333, \"#9c179e\"], [0.4444444444444444, \"#bd3786\"], [0.5555555555555556, \"#d8576b\"], [0.6666666666666666, \"#ed7953\"], [0.7777777777777778, \"#fb9f3a\"], [0.8888888888888888, \"#fdca26\"], [1.0, \"#f0f921\"]]}, \"colorway\": [\"#636efa\", \"#EF553B\", \"#00cc96\", \"#ab63fa\", \"#FFA15A\", \"#19d3f3\", \"#FF6692\", \"#B6E880\", \"#FF97FF\", \"#FECB52\"], \"font\": {\"color\": \"#2a3f5f\"}, \"geo\": {\"bgcolor\": \"white\", \"lakecolor\": \"white\", \"landcolor\": \"#E5ECF6\", \"showlakes\": true, \"showland\": true, \"subunitcolor\": \"white\"}, \"hoverlabel\": {\"align\": \"left\"}, \"hovermode\": \"closest\", \"mapbox\": {\"style\": \"light\"}, \"paper_bgcolor\": \"white\", \"plot_bgcolor\": \"#E5ECF6\", \"polar\": {\"angularaxis\": {\"gridcolor\": \"white\", \"linecolor\": \"white\", \"ticks\": \"\"}, \"bgcolor\": \"#E5ECF6\", \"radialaxis\": {\"gridcolor\": \"white\", \"linecolor\": \"white\", \"ticks\": \"\"}}, \"scene\": {\"xaxis\": {\"backgroundcolor\": \"#E5ECF6\", \"gridcolor\": \"white\", \"gridwidth\": 2, \"linecolor\": \"white\", \"showbackground\": true, \"ticks\": \"\", \"zerolinecolor\": \"white\"}, \"yaxis\": {\"backgroundcolor\": \"#E5ECF6\", \"gridcolor\": \"white\", \"gridwidth\": 2, \"linecolor\": \"white\", \"showbackground\": true, \"ticks\": \"\", \"zerolinecolor\": \"white\"}, \"zaxis\": {\"backgroundcolor\": \"#E5ECF6\", \"gridcolor\": \"white\", \"gridwidth\": 2, \"linecolor\": \"white\", \"showbackground\": true, \"ticks\": \"\", \"zerolinecolor\": \"white\"}}, \"shapedefaults\": {\"line\": {\"color\": \"#2a3f5f\"}}, \"ternary\": {\"aaxis\": {\"gridcolor\": \"white\", \"linecolor\": \"white\", \"ticks\": \"\"}, \"baxis\": {\"gridcolor\": \"white\", \"linecolor\": \"white\", \"ticks\": \"\"}, \"bgcolor\": \"#E5ECF6\", \"caxis\": {\"gridcolor\": \"white\", \"linecolor\": \"white\", \"ticks\": \"\"}}, \"title\": {\"x\": 0.05}, \"xaxis\": {\"automargin\": true, \"gridcolor\": \"white\", \"linecolor\": \"white\", \"ticks\": \"\", \"title\": {\"standoff\": 15}, \"zerolinecolor\": \"white\", \"zerolinewidth\": 2}, \"yaxis\": {\"automargin\": true, \"gridcolor\": \"white\", \"linecolor\": \"white\", \"ticks\": \"\", \"title\": {\"standoff\": 15}, \"zerolinecolor\": \"white\", \"zerolinewidth\": 2}}}, \"title\": {\"text\": \"World Indices YTD Performance (%) in US Dollar Terms (EOD)\"}, \"xaxis\": {\"anchor\": \"y\", \"domain\": [0.0, 1.0], \"title\": {\"text\": \"Indices\"}}, \"yaxis\": {\"anchor\": \"x\", \"automargin\": true, \"domain\": [0.0, 1.0], \"tickformat\": \"{:.2f}%\", \"title\": {\"text\": \"Return (%)\"}}},\n",
       "                        {\"responsive\": true}\n",
       "                    ).then(function(){\n",
       "                            \n",
       "var gd = document.getElementById('bc4e6b23-0070-4bb5-bcab-01aafc367076');\n",
       "var x = new MutationObserver(function (mutations, observer) {{\n",
       "        var display = window.getComputedStyle(gd).display;\n",
       "        if (!display || display === 'none') {{\n",
       "            console.log([gd, 'removed!']);\n",
       "            Plotly.purge(gd);\n",
       "            observer.disconnect();\n",
       "        }}\n",
       "}});\n",
       "\n",
       "// Listen for the removal of the full notebook cells\n",
       "var notebookContainer = gd.closest('#notebook-container');\n",
       "if (notebookContainer) {{\n",
       "    x.observe(notebookContainer, {childList: true});\n",
       "}}\n",
       "\n",
       "// Listen for the clearing of the current output cell\n",
       "var outputEl = gd.closest('.output');\n",
       "if (outputEl) {{\n",
       "    x.observe(outputEl, {childList: true});\n",
       "}}\n",
       "\n",
       "                        })\n",
       "                };\n",
       "                });\n",
       "            </script>\n",
       "        </div>"
      ]
     },
     "metadata": {},
     "output_type": "display_data"
    }
   ],
   "source": [
    "weekly_usd1 = rawdata.sort_values(by='$ Chg YTD (%)', ascending=False)\n",
    "weekly_usd = ((pd.DataFrame(weekly_usd1['$ Chg YTD (%)']*100)).dropna().sort_values(by='$ Chg YTD (%)', ascending=False))\n",
    "import plotly.express as px\n",
    "fig = px.bar(weekly_usd, color=weekly_usd.values, text=weekly_usd1['Country'])\n",
    "\n",
    "fig.update_layout(title = 'World Indices YTD Performance (%) in US Dollar Terms (EOD)',\n",
    "                   xaxis_title='Indices',\n",
    "                   yaxis_title='Return (%)', font=dict(family=\"Segoe UI, monospace\", size=13, color=\"#7f7f7f\"),\n",
    "                   legend_title_text='Return(%)', plot_bgcolor = 'White', yaxis_tickformat = '{:.2f}%')\n",
    "fig.update_traces(hovertemplate='Index: %{x} <br>Country: %{text} <br>Return: %{y:.2f}%') \n",
    "fig.update_yaxes(automargin=True)\n",
    "fig.show()"
   ]
  },
  {
   "cell_type": "code",
   "execution_count": null,
   "metadata": {},
   "outputs": [],
   "source": []
  }
 ],
 "metadata": {
  "kernelspec": {
   "display_name": "Python 3",
   "language": "python",
   "name": "python3"
  },
  "language_info": {
   "codemirror_mode": {
    "name": "ipython",
    "version": 3
   },
   "file_extension": ".py",
   "mimetype": "text/x-python",
   "name": "python",
   "nbconvert_exporter": "python",
   "pygments_lexer": "ipython3",
   "version": "3.7.3"
  }
 },
 "nbformat": 4,
 "nbformat_minor": 2
}
